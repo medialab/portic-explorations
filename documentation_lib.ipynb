{
 "cells": [
  {
   "cell_type": "markdown",
   "metadata": {},
   "source": [
    "# Doc de la lib construite pour explorer PORTIC\n",
    "\n",
    "Objectif de cette lib : abstraire le fonctionnement des APIs de PORTIC et de TOFLIT18 à travers un client facile à manipuler.\n",
    "\n",
    "Accessoirement, apprendre à connaître les deux APIs en fabriquant ce client et construire une doc personnelle.\n",
    "\n",
    "Voir la doc de l'API PORTIC ici : https://gitlab.huma-num.fr/portic/porticapi/-/tree/master/porticapi\n",
    "Voir le code de l'API toflit18 ici : https://github.com/medialab/toflit18"
   ]
  },
  {
   "cell_type": "code",
   "execution_count": 1,
   "metadata": {},
   "outputs": [],
   "source": [
    "# bootstrapping du client\n",
    "from lib.client import Api\n",
    "import json\n",
    "\n",
    "client = Api()"
   ]
  },
  {
   "cell_type": "markdown",
   "metadata": {},
   "source": [
    "# Méthodes pour l'accès à PORTIC\n",
    "\n",
    "Paramètres généraux pouvant être appliqués à (presque) toutes les méthodes de `client.portic` :\n",
    "\n",
    "| nom | type | valeurs | défault | description |\n",
    "|---|---|---|---|---|\n",
    "|params|liste de chaînes| ('all', ... tous les noms de params) | all | attributs à intégrer dans la réponse |\n",
    "|format|chaîne| ('json','csv')| json | format de la réponse|\n",
    "|shortenfields| booléen | (true, false) | false | permet de raccourcir les noms des attributs et donc d'alléger la taille du JSON téléchargé.|\n",
    "|both_to| booléen | (true,false) | false | permet de récupérer les données concernant l'arrivée d'un voyage en plus des données du départ (données par défaut). |\n",
    "| date | string format YYYY | (...années) | 1787 | pour filtrer les données sur une année donnée. L'année de la date d'arrivée ou de la date de départ doit commencer par ces 4 digits : 1787 ou  1789 par exemple. Exemple : http://data.portic.fr/api/pointcalls/?format=json&date=1789 |\n",
    "| zipped | booléen | (true, false) | false | ... |\n"
   ]
  },
  {
   "cell_type": "markdown",
   "metadata": {},
   "source": [
    "## client.portic.get_fieldnames(params)\n",
    "\n",
    "Synopsis:\n",
    "Récupère les noms des variables des données.\n",
    "\n",
    "---\n",
    "\n",
    "Paramètres de requête spécifiques :\n",
    "\n",
    "| nom | type | valeurs | défault | description |\n",
    "|---|---|---|---|---|\n",
    "| API | string | ('pointcalls', 'travels', 'any') | pour réduire la requête à une api particulière |\n",
    "\n",
    "### Exemple"
   ]
  },
  {
   "cell_type": "code",
   "execution_count": 2,
   "metadata": {},
   "outputs": [
    {
     "data": {
      "text/plain": [
       "[{'api': 'None',\n",
       "  'name': 'id',\n",
       "  'shortname': 't001',\n",
       "  'type': 'text',\n",
       "  'description': 'Identifiant du trajet'}]"
      ]
     },
     "execution_count": 2,
     "metadata": {},
     "output_type": "execute_result"
    }
   ],
   "source": [
    "client.portic.get_fieldnames()[0:1]"
   ]
  },
  {
   "cell_type": "markdown",
   "metadata": {},
   "source": [
    "## client.portic.get_pointcalls(params)\n",
    "\n",
    "\n",
    "Synopsis:\n",
    "\n",
    "---\n",
    "\n",
    "Paramètres de requête spécifiques :\n",
    "\n",
    "| nom | type | valeurs | défault | description |\n",
    "|---|---|---|---|---|\n",
    "| API | string | ('pointcalls', 'travels', 'any') | pour réduire la requête à une api particulière |\n",
    "\n",
    "### Exemple"
   ]
  },
  {
   "cell_type": "code",
   "execution_count": 3,
   "metadata": {},
   "outputs": [
    {
     "name": "stdout",
     "output_type": "stream",
     "text": [
      "-----------FINAL QUERY-----------\n",
      "GET http://data.portic.fr/api/pointcalls?date=1787\n",
      "\n",
      "\n",
      "None\n"
     ]
    },
    {
     "data": {
      "text/plain": [
       "[{'pkid': 62703,\n",
       "  'pointcall': None,\n",
       "  'pointcall_uhgs_id': 'H9999999',\n",
       "  'latitude': None,\n",
       "  'longitude': None,\n",
       "  'pointcall_admiralty': None,\n",
       "  'pointcall_province': None,\n",
       "  'pointcall_states': None,\n",
       "  'pointcall_substates': None,\n",
       "  'pointcall_status': None,\n",
       "  'shiparea': None,\n",
       "  'pointcall_point': None,\n",
       "  'pointcall_out_date': None,\n",
       "  'pointcall_action': 'In',\n",
       "  'outdate_fixed': None,\n",
       "  'pointcall_in_date': '1787>03>19!',\n",
       "  'indate_fixed': None,\n",
       "  'net_route_marker': 'A',\n",
       "  'pointcall_function': 'T',\n",
       "  'navigo_status': 'FC-RF',\n",
       "  'ship_name': 'Saint Clément',\n",
       "  'ship_id': '0012787N',\n",
       "  'tonnage': '60',\n",
       "  'tonnage_unit': 'tx',\n",
       "  'flag': 'French',\n",
       "  'class': None,\n",
       "  'homeport': None,\n",
       "  'homeport_uhgs_id': None,\n",
       "  'homeport_latitude': None,\n",
       "  'homeport_longitude': None,\n",
       "  'homeport_admiralty': None,\n",
       "  'homeport_province': None,\n",
       "  'homeport_states': None,\n",
       "  'homeport_substates': None,\n",
       "  'homeport_status': None,\n",
       "  'homeport_shiparea': None,\n",
       "  'homeport_point': None,\n",
       "  'source_doc_id': '00170390',\n",
       "  'source_text': 'ANF, G5-156-1/565',\n",
       "  'source_suite': 'G5',\n",
       "  'source_component': 'ANF, G5-156-1',\n",
       "  'source_number': 565.0,\n",
       "  'source_other': None,\n",
       "  'source_main_port_uhgs_id': 'A0158963',\n",
       "  'source_main_port_toponyme': 'Touques',\n",
       "  'captain_id': '00012702',\n",
       "  'captain_name': 'Lefebvre, Jacques',\n",
       "  'birthplace': None,\n",
       "  'status': None,\n",
       "  'citizenship': None,\n",
       "  'commodity_purpose': None,\n",
       "  'commodity_id': None,\n",
       "  'quantity': None,\n",
       "  'quantity_u': None,\n",
       "  'commodity_standardized': None,\n",
       "  'commodity_permanent_coding': None,\n",
       "  'all_cargos': None,\n",
       "  'tax_concept': None,\n",
       "  'payment_date': None,\n",
       "  'q01': None,\n",
       "  'q01_u': None,\n",
       "  'q02': None,\n",
       "  'q02_u': None,\n",
       "  'q03': None,\n",
       "  'q03_u': None,\n",
       "  'all_taxes': None,\n",
       "  'ship_uncertainity': 0,\n",
       "  'tonnage_uncertainity': -1,\n",
       "  'flag_uncertainity': -1,\n",
       "  'homeport_uncertainity': -3,\n",
       "  'pointcall_uncertainity': -1,\n",
       "  'captain_uncertainity': -1,\n",
       "  'cargo_uncertainity': -3,\n",
       "  'taxe_uncertainity': -3,\n",
       "  'pointcall_in_date2': '1787=03=19!',\n",
       "  'pointcall_out_date2': None,\n",
       "  'date_fixed': None,\n",
       "  'pointcall_rankfull': 6,\n",
       "  'record_id': '00170618',\n",
       "  'ship_flag_id': 'A0167415',\n",
       "  'in_crew': None,\n",
       "  'tonnage_class': '[51-100]',\n",
       "  'commodity_purpose2': None,\n",
       "  'commodity_id2': None,\n",
       "  'quantity2': None,\n",
       "  'quantity_u2': None,\n",
       "  'commodity_standardized2': None,\n",
       "  'commodity_permanent_coding2': None,\n",
       "  'commodity_purpose3': None,\n",
       "  'commodity_id3': None,\n",
       "  'quantity3': None,\n",
       "  'quantity_u3': None,\n",
       "  'commodity_standardized3': None,\n",
       "  'commodity_permanent_coding3': None,\n",
       "  'commodity_purpose4': None,\n",
       "  'commodity_id4': None,\n",
       "  'quantity4': None,\n",
       "  'quantity_u4': None,\n",
       "  'commodity_standardized4': None,\n",
       "  'commodity_permanent_coding4': None,\n",
       "  'data_block_leader_marker': 'T'}]"
      ]
     },
     "execution_count": 3,
     "metadata": {},
     "output_type": "execute_result"
    }
   ],
   "source": [
    "client.portic.get_pointcalls({\n",
    "    'date': 1787\n",
    "})[0:1]"
   ]
  },
  {
   "cell_type": "markdown",
   "metadata": {},
   "source": [
    "## client.portic.get_travels(params)\n",
    "\n",
    "\n",
    "Synopsis:\n",
    "\n",
    "Récupère les données de trajectoires calculées.\n",
    "\n",
    "---\n",
    "\n",
    "Paramètres de requête spécifiques :\n",
    "\n",
    "| nom | type | valeurs | défault | description |\n",
    "|---|---|---|---|---|\n",
    "\n",
    "\n",
    "### Exemple"
   ]
  },
  {
   "cell_type": "code",
   "execution_count": 4,
   "metadata": {},
   "outputs": [
    {
     "name": "stdout",
     "output_type": "stream",
     "text": [
      "-----------FINAL QUERY-----------\n",
      "GET http://data.portic.fr/api/travels?date=1787\n",
      "\n",
      "\n",
      "None\n"
     ]
    },
    {
     "data": {
      "text/plain": [
       "[{'id': '0006887N- 36',\n",
       "  'distance_dep_dest': 94.809,\n",
       "  'distance_homeport_dep': None,\n",
       "  'departure': 'Honfleur',\n",
       "  'departure_uhgs_id': 'A0187836',\n",
       "  'departure_latitude': '49.420164',\n",
       "  'departure_longitude': '0.231886',\n",
       "  'departure_admiralty': 'Honfleur',\n",
       "  'departure_province': 'Normandie',\n",
       "  'departure_states': '[{\"1749-1815\" : \"France\"}]',\n",
       "  'departure_substates': None,\n",
       "  'departure_shiparea': ' MAN-WIGH',\n",
       "  'departure_status': 'siège amirauté',\n",
       "  'departure_point': '0101000020110F00003346BF9C5B35D940C1CC925FB6355841',\n",
       "  'departure_out_date': '1787=10=08',\n",
       "  'departure_action': 'Out',\n",
       "  'outdate_fixed': -5750697600000,\n",
       "  'departure_navstatus': 'PC-RF',\n",
       "  'departure_function': 'O',\n",
       "  'destination': 'Rouen',\n",
       "  'destination_uhgs_id': 'A0122218',\n",
       "  'destination_latitude': '49.433333',\n",
       "  'destination_longitude': '1.083333',\n",
       "  'destination_admiralty': 'Rouen',\n",
       "  'destination_province': 'Normandie',\n",
       "  'destination_states': '[{\"1749-1815\" : \"France\"}]',\n",
       "  'destination_substates': None,\n",
       "  'destination_shiparea': 'MAN-WIGH',\n",
       "  'destination_status': 'siège amirauté',\n",
       "  'destination_point': '0101000020110F0000F091283F4171FD405652BED7E9375841',\n",
       "  'destination_in_date': None,\n",
       "  'destination_action': 'Out',\n",
       "  'indate_fixed': -5750265600000,\n",
       "  'destination_navstatus': 'PC-RF',\n",
       "  'destination_function': 'O',\n",
       "  'ship_name': 'Fidèle Dalida',\n",
       "  'ship_id': '0006887N',\n",
       "  'tonnage': '60',\n",
       "  'tonnage_unit': 'tx',\n",
       "  'flag': 'French',\n",
       "  'class': None,\n",
       "  'homeport': None,\n",
       "  'homeport_uhgs_id': None,\n",
       "  'homeport_latitude': None,\n",
       "  'homeport_longitude': None,\n",
       "  'homeport_admiralty': None,\n",
       "  'homeport_province': None,\n",
       "  'homeport_states': None,\n",
       "  'homeport_substates': None,\n",
       "  'homeport_status': None,\n",
       "  'homeport_shiparea': None,\n",
       "  'homeport_point': None,\n",
       "  'source_entry': 'both-from',\n",
       "  'source_doc_id': '00137017',\n",
       "  'source_text': 'ANF, G5-114/510',\n",
       "  'source_suite': 'G5',\n",
       "  'source_component': 'ANF, G5-114',\n",
       "  'source_number': 510.0,\n",
       "  'source_other': None,\n",
       "  'source_main_port_uhgs_id': 'A0187836',\n",
       "  'source_main_port_toponyme': 'Honfleur',\n",
       "  'captain_id': '00006879',\n",
       "  'captain_name': 'Duvalet, Jacques',\n",
       "  'birthplace': None,\n",
       "  'status': None,\n",
       "  'citizenship': None,\n",
       "  'commodity_purpose': None,\n",
       "  'commodity_id': None,\n",
       "  'quantity': None,\n",
       "  'quantity_u': None,\n",
       "  'commodity_standardized': None,\n",
       "  'commodity_permanent_coding': None,\n",
       "  'commodity_purpose2': None,\n",
       "  'commodity_id2': None,\n",
       "  'quantity2': None,\n",
       "  'quantity_u2': None,\n",
       "  'commodity_standardized2': None,\n",
       "  'commodity_permanent_coding2': None,\n",
       "  'commodity_purpose3': None,\n",
       "  'commodity_id3': None,\n",
       "  'quantity3': None,\n",
       "  'quantity_u3': None,\n",
       "  'commodity_standardized3': None,\n",
       "  'commodity_permanent_coding3': None,\n",
       "  'commodity_purpose4': None,\n",
       "  'commodity_id4': None,\n",
       "  'quantity4': None,\n",
       "  'quantity_u4': None,\n",
       "  'commodity_standardized4': None,\n",
       "  'commodity_permanent_coding4': None,\n",
       "  'all_cargos': None,\n",
       "  'tax_concept': 'Droit de balise',\n",
       "  'payment_date': None,\n",
       "  'q01': None,\n",
       "  'q01_u': None,\n",
       "  'q02': '10.0',\n",
       "  'q02_u': 's.t.',\n",
       "  'q03': None,\n",
       "  'q03_u': None,\n",
       "  'all_taxes': [{'q01': None,\n",
       "    'q02': '10.0',\n",
       "    'q03': None,\n",
       "    'q01_u': None,\n",
       "    'q02_u': 's.t.',\n",
       "    'q03_u': None,\n",
       "    'tax_concept': 'Droit de balise',\n",
       "    'payment_date': None,\n",
       "    'link_to_pointcall': '00137017'},\n",
       "   {'q01': None,\n",
       "    'q02': '3.0',\n",
       "    'q03': '9.0',\n",
       "    'q01_u': None,\n",
       "    'q02_u': 's.t.',\n",
       "    'q03_u': 'd.t.',\n",
       "    'tax_concept': 'Six sols par livre sur le droit de congé',\n",
       "    'payment_date': None,\n",
       "    'link_to_pointcall': '00137017'}],\n",
       "  'ship_uncertainity': 0,\n",
       "  'tonnage_uncertainity': 0,\n",
       "  'flag_uncertainity': -2,\n",
       "  'homeport_uncertainity': -3,\n",
       "  'departure_uncertainity': 0,\n",
       "  'destination_uncertainity': 0,\n",
       "  'captain_uncertainity': 0,\n",
       "  'travel_uncertainity': 0,\n",
       "  'cargo_uncertainity': None,\n",
       "  'taxe_uncertainity': 0.0,\n",
       "  'departure_pkid': 32251,\n",
       "  'destination_pkid': 60186,\n",
       "  'travel_rank': 36,\n",
       "  'distance_dep_dest_miles': '51.0',\n",
       "  'distance_homeport_dep_miles': None,\n",
       "  'ship_flag_id': 'A0167415',\n",
       "  'in_crew': None,\n",
       "  'tonnage_class': '[51-100]'}]"
      ]
     },
     "execution_count": 4,
     "metadata": {},
     "output_type": "execute_result"
    }
   ],
   "source": [
    "client.portic.get_travels({\n",
    "    'date': 1787\n",
    "})[0:1]"
   ]
  },
  {
   "cell_type": "markdown",
   "metadata": {},
   "source": [
    "## client.portic.get_departures_details(params)\n",
    "\n",
    "\n",
    "Synopsis:\n",
    "\n",
    "Retourne le détail des *voyages* au départ des points situés dans le voisinage (voir paramètre radius) du point requêté.\n",
    "\n",
    "---\n",
    "\n",
    "Paramètres de requête spécifiques :\n",
    "\n",
    "| nom | type | valeurs | défault | description |\n",
    "|---|---|---|---|---|\n",
    "| lon | flottant | (minLon,maxLon) | ? | longitude du centre de la zone à requêter|\n",
    "| lat | flottant | (minLat,maxLat) | ? | latitude du centre de la zone à requêter|\n",
    "| radius | flottant | (0,?) | 100 ? |  rayon en kilomètres |\n",
    "\n",
    "\n",
    "### Exemple"
   ]
  },
  {
   "cell_type": "code",
   "execution_count": 5,
   "metadata": {},
   "outputs": [
    {
     "name": "stdout",
     "output_type": "stream",
     "text": [
      "-----------FINAL QUERY-----------\n",
      "GET http://data.portic.fr/api/details/departures?lat=45.2333&lon=-1&radius=50\n",
      "\n",
      "\n",
      "None\n"
     ]
    },
    {
     "data": {
      "text/plain": [
       "[{'departure': 'Castelnaut',\n",
       "  'departure_uhgs_id': 'A0213627',\n",
       "  'departure_latitude': '45.033333',\n",
       "  'departure_longitude': '-0.8'}]"
      ]
     },
     "execution_count": 5,
     "metadata": {},
     "output_type": "execute_result"
    }
   ],
   "source": [
    "client.portic.get_departures_details({\n",
    " 'lat': 45.2333,\n",
    " 'lon': -1,\n",
    " 'radius': 50\n",
    "})[0:1]"
   ]
  },
  {
   "cell_type": "markdown",
   "metadata": {},
   "source": [
    "## client.portic.get_departures_aggregated(params)\n",
    "\n",
    "\n",
    "Synopsis:\n",
    "\n",
    "Retourne une agrégation des *voyages* au départ des points situés dans le voisinage (voir paramètre radius) du point requêté.\n",
    "\n",
    "---\n",
    "\n",
    "Paramètres de requête spécifiques :\n",
    "\n",
    "| nom | type | valeurs | défault | description |\n",
    "|---|---|---|---|---|\n",
    "| lon | flottant | (minLon,maxLon) | ? | longitude du centre de la zone à requêter|\n",
    "| lat | flottant | (minLat,maxLat) | ? | latitude du centre de la zone à requêter|\n",
    "| radius | flottant | (0,?) | 100 ? |  rayon en kilomètres |\n",
    "\n",
    "### Exemple"
   ]
  },
  {
   "cell_type": "code",
   "execution_count": 6,
   "metadata": {},
   "outputs": [
    {
     "data": {
      "text/plain": [
       "\" Seems not available ?\\nclient.portic.get_departures_aggregated({\\n 'lat': 45.2333,\\n 'lon': -1,\\n 'radius': 50\\n})[0:1]\\n\""
      ]
     },
     "execution_count": 6,
     "metadata": {},
     "output_type": "execute_result"
    }
   ],
   "source": [
    "\"\"\" Seems not available ?\n",
    "client.portic.get_departures_aggregated({\n",
    " 'lat': 45.2333,\n",
    " 'lon': -1,\n",
    " 'radius': 50\n",
    "})[0:1]\n",
    "\"\"\""
   ]
  },
  {
   "cell_type": "markdown",
   "metadata": {},
   "source": [
    "## client.portic.get_directions_details(params)\n",
    "\n",
    "\n",
    "Synopsis:\n",
    "\n",
    "Retourne le détail des *voyages* à l'arrivée des points situés dans le voisinage (voir paramètre radius) du point requêté.\n",
    "\n",
    "---\n",
    "\n",
    "Paramètres de requête spécifiques :\n",
    "\n",
    "| nom | type | valeurs | défault | description |\n",
    "|---|---|---|---|---|\n",
    "| lon | flottant | (minLon,maxLon) | ? | longitude du centre de la zone à requêter|\n",
    "| lat | flottant | (minLat,maxLat) | ? | latitude du centre de la zone à requêter|\n",
    "| radius | flottant | (0,?) | 100 ? |  rayon en kilomètres |\n",
    "\n",
    "\n",
    "### Exemple"
   ]
  },
  {
   "cell_type": "code",
   "execution_count": 7,
   "metadata": {},
   "outputs": [
    {
     "data": {
      "text/plain": [
       "\" Seems not available ?\\nclient.portic.get_destinations_details({\\n 'lat': 45.2333,\\n 'lon': -1,\\n 'radius': 50\\n})[0:1]\\n\""
      ]
     },
     "execution_count": 7,
     "metadata": {},
     "output_type": "execute_result"
    }
   ],
   "source": [
    "\"\"\" Seems not available ?\n",
    "client.portic.get_destinations_details({\n",
    " 'lat': 45.2333,\n",
    " 'lon': -1,\n",
    " 'radius': 50\n",
    "})[0:1]\n",
    "\"\"\""
   ]
  },
  {
   "cell_type": "markdown",
   "metadata": {},
   "source": [
    "## client.portic.get_destinations_aggregated(params)\n",
    "\n",
    "Synopsis:\n",
    "\n",
    "Retourne une aggrégation des *voyages* à l'arrivée des points situés dans le voisinage (voir paramètre radius) du point requêté.\n",
    "\n",
    "---\n",
    "\n",
    "Paramètres de requête spécifiques :\n",
    "\n",
    "| nom | type | valeurs | défault | description |\n",
    "|---|---|---|---|---|\n",
    "| lon | flottant | (minLon,maxLon) | ? | longitude du centre de la zone à requêter|\n",
    "| lat | flottant | (minLat,maxLat) | ? | latitude du centre de la zone à requêter|\n",
    "| radius | flottant | (0,?) | 100 ? |  rayon en kilomètres |\n",
    "\n",
    "\n",
    "### Exemple"
   ]
  },
  {
   "cell_type": "code",
   "execution_count": 8,
   "metadata": {},
   "outputs": [
    {
     "name": "stdout",
     "output_type": "stream",
     "text": [
      "-----------FINAL QUERY-----------\n",
      "GET http://data.portic.fr/api/agg/destinations?lat=45.2333&lon=-1&radius=50\n",
      "\n",
      "\n",
      "None\n"
     ]
    },
    {
     "data": {
      "text/plain": [
       "[{'label': 'Bayonne', 'value': 1, 'id': 'Bayonne'}]"
      ]
     },
     "execution_count": 8,
     "metadata": {},
     "output_type": "execute_result"
    }
   ],
   "source": [
    "client.portic.get_destinations_aggregated({\n",
    " 'lat': 45.2333,\n",
    " 'lon': -1,\n",
    " 'radius': 50\n",
    "})[0:1]"
   ]
  },
  {
   "cell_type": "markdown",
   "metadata": {},
   "source": [
    "## client.portic.get_flows(params)\n",
    "\n",
    "Synopsis:\n",
    "\n",
    "Retourne une liste de flux, c'est-à-dire de voyages liés à des ports spécifiques, soit en y entrant (direction \"in\"), soit en en sortant (direction \"out\"), soit en ayant navigué autour (direction \"in-out\")\n",
    "\n",
    "---\n",
    "\n",
    "Paramètres de requête spécifiques :\n",
    "\n",
    "| nom | type | valeurs | défault | description |\n",
    "|---|---|---|---|---|\n",
    "| ports | entier | UHGS_id | 4326 | liste des ids de ports à filtrer (séparés par des virgules)\n",
    "\n",
    "\n",
    "### Exemple"
   ]
  },
  {
   "cell_type": "code",
   "execution_count": 9,
   "metadata": {},
   "outputs": [
    {
     "name": "stdout",
     "output_type": "stream",
     "text": [
      "-----------FINAL QUERY-----------\n",
      "GET http://data.portic.fr/api/flows?ports=A0180923%2CA0152606&params=travel_rank%2Cship_id%2Cdeparture%2Cdestination%2Ctravel_uncertainty%2Cdistance_dep_dest\n",
      "\n",
      "\n",
      "None\n",
      "[\n",
      "  {\n",
      "    \"travel_rank\": 1,\n",
      "    \"ship_id\": \"0000001N\",\n",
      "    \"departure\": \"Boulogne sur Mer\",\n",
      "    \"destination\": \"Angleterre\",\n",
      "    \"distance_dep_dest\": 575.816\n",
      "  }\n",
      "]\n"
     ]
    }
   ],
   "source": [
    "# Exemple de requête : tous les bateaux passant par Bordeaux (A0180923) et Boulogne sur Mer (A0152606)\n",
    "\n",
    "resp = client.portic.get_flows({\n",
    " 'ports': ['A0180923', 'A0152606'],\n",
    " 'params': [ 'travel_rank', 'ship_id', 'departure', 'destination', 'travel_uncertainty', 'distance_dep_dest']\n",
    "})\n",
    "print(json.dumps(resp[0:1], indent=2))"
   ]
  },
  {
   "cell_type": "markdown",
   "metadata": {},
   "source": [
    "## client.portic.get_ports(params)\n",
    "\n",
    "Synopsis:\n",
    "\n",
    "Retourne une liste de flux, c'est-à-dire de voyages liés à des ports spécifiques, soit en y entrant (direction \"in\"), soit en en sortant (direction \"out\"), soit en ayant navigué autour (direction \"in-out\")\n",
    "\n",
    "---\n",
    "\n",
    "Paramètres de requête spécifiques :\n",
    "\n",
    "| nom | type | valeurs | défault | description |\n",
    "|---|---|---|---|---|\n",
    "| ports | entier | UHGS_id | 4326 | liste des ids de ports à filtrer (séparés par des virgules)\n",
    "\n",
    "\n",
    "### Exemple"
   ]
  },
  {
   "cell_type": "code",
   "execution_count": 10,
   "metadata": {},
   "outputs": [
    {
     "name": "stdout",
     "output_type": "stream",
     "text": [
      "-----------FINAL QUERY-----------\n",
      "GET http://data.portic.fr/api/ports?srid=4326\n",
      "\n",
      "\n",
      "None\n",
      "[\n",
      "  {\n",
      "    \"ogc_fid\": 3,\n",
      "    \"uhgs_id\": \"A1964159\",\n",
      "    \"total\": 3,\n",
      "    \"toponym\": \"Valence (off)\",\n",
      "    \"belonging_states\": null,\n",
      "    \"belonging_substates\": null,\n",
      "    \"status\": null,\n",
      "    \"geonameid\": 2982877.0,\n",
      "    \"admiralty\": null,\n",
      "    \"province\": null,\n",
      "    \"shiparea\": null,\n",
      "    \"point\": \"{\\\"type\\\":\\\"Point\\\",\\\"coordinates\\\":[-0.191946,39.416476]}\"\n",
      "  }\n",
      "]\n"
     ]
    }
   ],
   "source": [
    "resp = client.portic.get_ports({\n",
    "    'srid': 4326\n",
    "})\n",
    "print(json.dumps(resp[0:1], indent=2))"
   ]
  },
  {
   "cell_type": "markdown",
   "metadata": {},
   "source": [
    "# Méthodes pour l'accès à TOFLIT\n",
    "\n",
    "Méthodes pouvant être appelées depuis `client.toflit` :"
   ]
  },
  {
   "cell_type": "markdown",
   "metadata": {},
   "source": [
    "## client.toflit.get_directions()\n",
    "\n",
    "Synopsis :\n",
    "\n",
    "Récupère les directions de la base\n",
    "\n",
    "---\n",
    "\n",
    "### Exemple"
   ]
  },
  {
   "cell_type": "code",
   "execution_count": 11,
   "metadata": {},
   "outputs": [
    {
     "name": "stdout",
     "output_type": "stream",
     "text": [
      "-----------FINAL QUERY-----------\n",
      "GET http://toflit18.medialab.sciences-po.fr/api/directions\n",
      "\n",
      "\n",
      "None\n"
     ]
    },
    {
     "data": {
      "text/plain": [
       "[{'id': 'Amiens', 'name': 'Amiens'},\n",
       " {'id': 'Auch', 'name': 'Auch'},\n",
       " {'id': 'Bayonne', 'name': 'Bayonne'},\n",
       " {'id': 'Besançon', 'name': 'Besançon'},\n",
       " {'id': 'Bordeaux', 'name': 'Bordeaux'},\n",
       " {'id': 'Bourgogne', 'name': 'Bourgogne'},\n",
       " {'id': 'Caen', 'name': 'Caen'},\n",
       " {'id': 'Charleville', 'name': 'Charleville'},\n",
       " {'id': 'Châlons', 'name': 'Châlons'},\n",
       " {'id': \"Colonies_Françaises_de_l'Amérique\",\n",
       "  'name': \"Colonies Françaises de l'Amérique\"},\n",
       " {'id': 'Dunkerque', 'name': 'Dunkerque'},\n",
       " {'id': 'Flandre', 'name': 'Flandre'},\n",
       " {'id': 'France', 'name': 'France'},\n",
       " {'id': 'France_par_la_Compagnie_des_Indes',\n",
       "  'name': 'France par la Compagnie des Indes'},\n",
       " {'id': 'Grenoble', 'name': 'Grenoble'},\n",
       " {'id': 'La_Rochelle', 'name': 'La Rochelle'},\n",
       " {'id': 'Langres', 'name': 'Langres'},\n",
       " {'id': 'Le_Havre', 'name': 'Le Havre'},\n",
       " {'id': 'Lorient', 'name': 'Lorient'},\n",
       " {'id': 'Lyon', 'name': 'Lyon'},\n",
       " {'id': 'Marseille', 'name': 'Marseille'},\n",
       " {'id': 'Montpellier', 'name': 'Montpellier'},\n",
       " {'id': 'Nantes', 'name': 'Nantes'},\n",
       " {'id': 'Narbonne', 'name': 'Narbonne'},\n",
       " {'id': 'Paris', 'name': 'Paris'},\n",
       " {'id': 'Rennes', 'name': 'Rennes'},\n",
       " {'id': 'Rouen', 'name': 'Rouen'},\n",
       " {'id': 'Saint_Malo', 'name': 'Saint-Malo'},\n",
       " {'id': 'Saint_Quentin', 'name': 'Saint-Quentin'},\n",
       " {'id': 'Soisson', 'name': 'Soisson'},\n",
       " {'id': 'Toulon', 'name': 'Toulon'},\n",
       " {'id': 'Valenciennes', 'name': 'Valenciennes'},\n",
       " {'id': \"Îles_françaises_de_l'Amérique_par_la_Compagnie_des_Indes\",\n",
       "  'name': \"Îles françaises de l'Amérique par la Compagnie des Indes\"}]"
      ]
     },
     "execution_count": 11,
     "metadata": {},
     "output_type": "execute_result"
    }
   ],
   "source": [
    "client.toflit.get_directions()"
   ]
  },
  {
   "cell_type": "markdown",
   "metadata": {},
   "source": [
    "## client.toflit.get_sources_types()\n",
    "\n",
    "Synopsis :\n",
    "\n",
    "Récupère les types de sources disponibles\n",
    "\n",
    "---\n",
    "\n",
    "### Exemple"
   ]
  },
  {
   "cell_type": "code",
   "execution_count": 12,
   "metadata": {},
   "outputs": [
    {
     "name": "stdout",
     "output_type": "stream",
     "text": [
      "-----------FINAL QUERY-----------\n",
      "GET http://toflit18.medialab.sciences-po.fr/api/source_types\n",
      "\n",
      "\n",
      "None\n"
     ]
    },
    {
     "data": {
      "text/plain": [
       "['1792-both semester',\n",
       " '1792-first semester',\n",
       " 'Compagnie des Indes',\n",
       " 'Local',\n",
       " 'Local best guess',\n",
       " 'National best guess',\n",
       " 'National partenaires manquants',\n",
       " 'National toutes directions partenaires manquants',\n",
       " 'National toutes directions sans produits',\n",
       " 'National toutes directions tous partenaires',\n",
       " 'Objet Général',\n",
       " 'Résumé',\n",
       " 'Tableau Général',\n",
       " 'Tableau des quantités']"
      ]
     },
     "execution_count": 12,
     "metadata": {},
     "output_type": "execute_result"
    }
   ],
   "source": [
    "client.toflit.get_sources_types()"
   ]
  },
  {
   "cell_type": "markdown",
   "metadata": {},
   "source": [
    "## client.toflit.get_product_classifications(classification)\n",
    "\n",
    "Synopsis :\n",
    "\n",
    "Récupère les classifications de produits\n",
    "\n",
    "---\n",
    "\n",
    "### Exemple"
   ]
  },
  {
   "cell_type": "code",
   "execution_count": 13,
   "metadata": {},
   "outputs": [
    {
     "name": "stdout",
     "output_type": "stream",
     "text": [
      "-----------FINAL QUERY-----------\n",
      "GET http://toflit18.medialab.sciences-po.fr/api/classification\n",
      "\n",
      "\n",
      "None\n",
      "{\n",
      "  \"name\": \"Source\",\n",
      "  \"description\": \"the product names as transcribed from archive volumes\",\n",
      "  \"model\": \"product\",\n",
      "  \"source\": true,\n",
      "  \"id\": \"product_source\",\n",
      "  \"slug\": \"source\",\n",
      "  \"author\": \"TOFLIT 18\",\n",
      "  \"parent\": null,\n",
      "  \"groupsCount\": 61795,\n",
      "  \"itemsCount\": null,\n",
      "  \"unclassifiedItemsCount\": 1,\n",
      "  \"completion\": 0,\n",
      "  \"children\": null\n",
      "}\n"
     ]
    }
   ],
   "source": [
    "resp = client.toflit.get_product_classifications()\n",
    "# removing children for the sake of logging\n",
    "resp['children'] = None\n",
    "print(json.dumps(resp, indent=2))"
   ]
  },
  {
   "cell_type": "markdown",
   "metadata": {},
   "source": [
    "## client.toflit.get_partner_classifications()\n",
    "\n",
    "Synopsis :\n",
    "\n",
    "Récupère les classifications de partenaires\n",
    "\n",
    "---\n",
    "\n",
    "### Exemple"
   ]
  },
  {
   "cell_type": "code",
   "execution_count": 14,
   "metadata": {},
   "outputs": [
    {
     "name": "stdout",
     "output_type": "stream",
     "text": [
      "-----------FINAL QUERY-----------\n",
      "GET http://toflit18.medialab.sciences-po.fr/api/classification\n",
      "\n",
      "\n",
      "None\n",
      "{\n",
      "  \"name\": \"Source\",\n",
      "  \"description\": \"the partner names as transcribed from archive volumes\",\n",
      "  \"model\": \"partner\",\n",
      "  \"source\": true,\n",
      "  \"id\": \"partner_source\",\n",
      "  \"slug\": \"source\",\n",
      "  \"author\": \"TOFLIT 18\",\n",
      "  \"parent\": null,\n",
      "  \"groupsCount\": 1003,\n",
      "  \"itemsCount\": null,\n",
      "  \"unclassifiedItemsCount\": 1,\n",
      "  \"completion\": 0,\n",
      "  \"children\": null\n",
      "}\n"
     ]
    }
   ],
   "source": [
    "resp = client.toflit.get_partner_classifications()\n",
    "# removing children for the sake of logging\n",
    "resp['children'] = None\n",
    "print(json.dumps(resp, indent=2))"
   ]
  },
  {
   "cell_type": "markdown",
   "metadata": {},
   "source": [
    "## client.toflit.get_classification_groups(classification)\n",
    "\n",
    "Synopsis :\n",
    "\n",
    "Récupère l'ensemble des catégories associées à une classification en particulier (sans le détail des valeurs)\n",
    "\n",
    "---\n",
    "\n",
    "### Exemple"
   ]
  },
  {
   "cell_type": "code",
   "execution_count": 15,
   "metadata": {},
   "outputs": [
    {
     "name": "stdout",
     "output_type": "stream",
     "text": [
      "-----------FINAL QUERY-----------\n",
      "GET http://toflit18.medialab.sciences-po.fr/api/classification/partner_grouping/groups/\n",
      "\n",
      "\n",
      "None\n"
     ]
    },
    {
     "data": {
      "text/plain": [
       "[{'id': '????~partner_grouping', 'name': '????'},\n",
       " {'id': 'Allemagne~partner_grouping', 'name': 'Allemagne'}]"
      ]
     },
     "execution_count": 15,
     "metadata": {},
     "output_type": "execute_result"
    }
   ],
   "source": [
    "client.toflit.get_classification_groups('partner_grouping')[0:2]"
   ]
  },
  {
   "cell_type": "markdown",
   "metadata": {},
   "source": [
    "## client.toflit.get_classification_search(classification)\n",
    "\n",
    "Synopsis :\n",
    "\n",
    "Récupère le détail des groupements associés à une classification en particulier.\n",
    "\n",
    "---\n",
    "\n",
    "Paramètre d'URL `classification` : le nom de la classification préfixé par son type (ex. \"product_simplification\", ou \"partner_source\")\n",
    "\n",
    "---\n",
    "\n",
    "### Exemple"
   ]
  },
  {
   "cell_type": "code",
   "execution_count": 16,
   "metadata": {},
   "outputs": [
    {
     "name": "stdout",
     "output_type": "stream",
     "text": [
      "-----------FINAL QUERY-----------\n",
      "GET http://toflit18.medialab.sciences-po.fr/api/classification/partner_grouping/search/\n",
      "\n",
      "\n",
      "None\n"
     ]
    },
    {
     "data": {
      "text/plain": [
       "[{'name': 'Outre-mers',\n",
       "  'id': 'Outre-mers~partner_grouping',\n",
       "  'items': [{'name': 'Afrique'},\n",
       "   {'name': 'Afrique occidentale'},\n",
       "   {'name': 'Amérique et Inde'},\n",
       "   {'name': 'Amérique, colonies françaises et Inde'},\n",
       "   {'name': 'Amériques'}],\n",
       "  'nbItems': 68},\n",
       " {'name': 'France',\n",
       "  'id': 'France~partner_grouping',\n",
       "  'items': [{'name': 'Aligre de Marans ou Marennes'},\n",
       "   {'name': 'Alsace'},\n",
       "   {'name': 'Alsace et Lorraine'},\n",
       "   {'name': 'Alsace et les Trois Évêchés'},\n",
       "   {'name': 'Alsace, Bayonne, Dunkerque, Lorient et Petites Îles'}],\n",
       "  'nbItems': 44}]"
      ]
     },
     "execution_count": 16,
     "metadata": {},
     "output_type": "execute_result"
    }
   ],
   "source": [
    "client.toflit.get_classification_search('partner_grouping')[0:2]"
   ]
  },
  {
   "cell_type": "markdown",
   "metadata": {},
   "source": [
    "## client.toflit.get_locations(classification, params)\n",
    "\n",
    "Synopsis :\n",
    "\n",
    "Récupère le réseau des lieux (directions et partenaires) et le montant de leurs échanges\n",
    "\n",
    "---\n",
    "\n",
    "Paramètre `classification` : l'id de la classification de partenaire à utiliser\n",
    "\n",
    "---\n",
    "\n",
    "Paramètres de requête spécifiques :\n",
    "\n",
    "| nom | type | valeurs | défault | description |\n",
    "|---|---|---|---|---|\n",
    "| dateMin | entier | (années) | ? | année de début |\n",
    "| dateMax | entier | (années) | ? | année de fin |\n",
    "| kind | string | ('total', 'import', 'export') | 'total' | type de flux |\n",
    "| sourceType | string | (types de source) | ? | id du type de source à utiliser |\n",
    "| product | liste d'objets | (objects avec {{\"id\",\"name\",\"value\"}) | None | liste des produits à filtrer |\n",
    "| productClassification | string | (ids de classification) | None | Classification de produit à utiliser pour le filtre |\n",
    "\n",
    "---\n",
    "\n",
    "### Exemple"
   ]
  },
  {
   "cell_type": "code",
   "execution_count": 17,
   "metadata": {},
   "outputs": [
    {
     "name": "stdout",
     "output_type": "stream",
     "text": [
      "-----------FINAL QUERY-----------\n",
      "POST http://toflit18.medialab.sciences-po.fr/api/viz/network/partner_grouping\n",
      "Content-Length: 0\n",
      "\n",
      "None\n",
      "('data', '{\\n  \"dateMax\": 1750,\\n  \"dateMin\": 1750,\\n  \"kind\": \"total\",\\n  \"sourceType\": \"National best guess\"\\n}')\n"
     ]
    },
    {
     "data": {
      "text/plain": [
       "[{'partner': 'Outre-mers',\n",
       "  'direction': 'Bordeaux',\n",
       "  'count': 233,\n",
       "  'value': 22584986.21661377},\n",
       " {'partner': 'Outre-mers',\n",
       "  'direction': 'La Rochelle',\n",
       "  'count': 402,\n",
       "  'value': 14480602.406881928}]"
      ]
     },
     "execution_count": 17,
     "metadata": {},
     "output_type": "execute_result"
    }
   ],
   "source": [
    "client.toflit.get_locations('partner_grouping', {\n",
    "    'dateMax': 1750,\n",
    "    'dateMin': 1750,\n",
    "    'kind': 'total',\n",
    "    'sourceType': 'National best guess'\n",
    "})[0: 2]"
   ]
  },
  {
   "cell_type": "markdown",
   "metadata": {},
   "source": [
    "## client.toflit.get_time_series(params)\n",
    "\n",
    "Synopsis :\n",
    "\n",
    "Récupère des séries temporelles à propos des flux de marchandises\n",
    "\n",
    "---\n",
    "\n",
    "Paramètres de requête spécifiques :\n",
    "\n",
    "| nom | type | valeurs | défault | description |\n",
    "|---|---|---|---|---|\n",
    "| dateMin | entier | (années) | ? | année de début |\n",
    "| dateMax | entier | (années) | ? | année de fin |\n",
    "| kind | string | ('total', 'import', 'export') | 'total' | type de flux |\n",
    "| sourceType | string | (types de source) | ? | id du type de source à utiliser |\n",
    "| partner | liste d'objets | (objects avec {\"name\",\"id\"}) | None | les partenaires commerciaux à prendre en compte (e.g. {name: 'Alsace', id: 'Alsace~partner_orthographic'}) |\n",
    "| partnerClassification | string | (ids de classification) | None | Classification de partenaire à utiliser pour le filtre |\n",
    "| product | liste d'objets | (objects avec {{\"id\",\"name\",\"value\"}) | None | liste des produits à filtrer |\n",
    "| productClassification | string | (ids de classification) | None | Classification de produit à utiliser pour le filtre |\n",
    "| direction | chaîne | (noms de direction) | '$all$' | nom de la direction à filtrer |\n",
    "\n",
    "---\n",
    "\n",
    "### Exemple"
   ]
  },
  {
   "cell_type": "code",
   "execution_count": 18,
   "metadata": {},
   "outputs": [
    {
     "name": "stdout",
     "output_type": "stream",
     "text": [
      "-----------FINAL QUERY-----------\n",
      "POST http://toflit18.medialab.sciences-po.fr/api/viz/line/\n",
      "Content-Length: 0\n",
      "\n",
      "None\n",
      "('data', '{\\n  \"direction\": \"La_Rochelle\"\\n}')\n"
     ]
    },
    {
     "data": {
      "text/plain": [
       "[{'count': 436,\n",
       "  'value': 7535999.938473318,\n",
       "  'kg': 20132789.24645706,\n",
       "  'nbr': 0,\n",
       "  'litre': 151040.94097500003,\n",
       "  'year': 1718,\n",
       "  'nb_direction': ['La Rochelle'],\n",
       "  'value_share': 431,\n",
       "  'kg_share': 283,\n",
       "  'litre_share': 8,\n",
       "  'nbr_share': 0},\n",
       " {'count': 461,\n",
       "  'value': 11008082.874984741,\n",
       "  'kg': 28572416.43779383,\n",
       "  'nbr': 0,\n",
       "  'litre': 132537.225625,\n",
       "  'year': 1719,\n",
       "  'nb_direction': ['La Rochelle'],\n",
       "  'value_share': 461,\n",
       "  'kg_share': 283,\n",
       "  'litre_share': 9,\n",
       "  'nbr_share': 0}]"
      ]
     },
     "execution_count": 18,
     "metadata": {},
     "output_type": "execute_result"
    }
   ],
   "source": [
    "client.toflit.get_time_series({\n",
    "    'direction': 'La_Rochelle'\n",
    "})[0:2]"
   ]
  },
  {
   "cell_type": "markdown",
   "metadata": {},
   "source": [
    "## client.toflit.get_flows_per_year(type, params)\n",
    "\n",
    "Synopsis :\n",
    "\n",
    "Récupère les flux par année par direction ou par type de source\n",
    "\n",
    "---\n",
    "\n",
    "Paramètre `type` : le type de flux 'direction' ou 'sourceType'\n",
    "\n",
    "---\n",
    "\n",
    "Paramètres de requête spécifiques :\n",
    "\n",
    "| nom | type | valeurs | défault | description |\n",
    "|---|---|---|---|---|\n",
    "| dateMin | entier | (années) | ? | année de début |\n",
    "| dateMax | entier | (années) | ? | année de fin |\n",
    "| kind | string | ('total', 'import', 'export') | 'total' | type de flux |\n",
    "| sourceType | string | (types de source) | ? | id du type de source à utiliser |\n",
    "| partner | liste d'objets | (objects avec {\"name\",\"id\"}) | None | les partenaires commerciaux à prendre en compte (e.g. {name: 'Alsace', id: 'Alsace~partner_orthographic'}) |\n",
    "| partnerClassification | string | (ids de classification) | None | Classification de partenaire à utiliser pour le filtre |\n",
    "| product | liste d'objets | (objects avec {{\"id\",\"name\",\"value\"}) | None | liste des produits à filtrer |\n",
    "| productClassification | string | (ids de classification) | None | Classification de produit à utiliser pour le filtre |\n",
    "| direction | chaîne | (noms de direction) | '$all$' | nom de la direction à filtrer |\n",
    "\n",
    "---\n",
    "\n",
    "### Exemple"
   ]
  },
  {
   "cell_type": "code",
   "execution_count": 19,
   "metadata": {},
   "outputs": [
    {
     "name": "stdout",
     "output_type": "stream",
     "text": [
      "-----------FINAL QUERY-----------\n",
      "POST http://toflit18.medialab.sciences-po.fr/api/viz/flows_per_year/direction\n",
      "Content-Length: 0\n",
      "\n",
      "None\n"
     ]
    },
    {
     "data": {
      "text/plain": [
       "[{'name': 'La Rochelle',\n",
       "  'data': [{'year': 1718, 'flows': 436},\n",
       "   {'year': 1719, 'flows': 461},\n",
       "   {'year': 1720, 'flows': 485},\n",
       "   {'year': 1721, 'flows': 410},\n",
       "   {'year': 1722, 'flows': 482},\n",
       "   {'year': 1723, 'flows': 496},\n",
       "   {'year': 1724, 'flows': 499},\n",
       "   {'year': 1725, 'flows': 465},\n",
       "   {'year': 1726, 'flows': 570},\n",
       "   {'year': 1727, 'flows': 517},\n",
       "   {'year': 1728, 'flows': 541},\n",
       "   {'year': 1729, 'flows': 558},\n",
       "   {'year': 1730, 'flows': 514},\n",
       "   {'year': 1731, 'flows': 529},\n",
       "   {'year': 1732, 'flows': 559},\n",
       "   {'year': 1733, 'flows': 556},\n",
       "   {'year': 1734, 'flows': 655},\n",
       "   {'year': 1735, 'flows': 633},\n",
       "   {'year': 1736, 'flows': 636},\n",
       "   {'year': 1737, 'flows': 711},\n",
       "   {'year': 1738, 'flows': 760},\n",
       "   {'year': 1739, 'flows': 697},\n",
       "   {'year': 1740, 'flows': 657},\n",
       "   {'year': 1741, 'flows': 622},\n",
       "   {'year': 1744, 'flows': 597},\n",
       "   {'year': 1746, 'flows': 658},\n",
       "   {'year': 1747, 'flows': 591},\n",
       "   {'year': 1748, 'flows': 507},\n",
       "   {'year': 1749, 'flows': 895},\n",
       "   {'year': 1750, 'flows': 1781},\n",
       "   {'year': 1751, 'flows': 836},\n",
       "   {'year': 1752, 'flows': 806},\n",
       "   {'year': 1753, 'flows': 746},\n",
       "   {'year': 1754, 'flows': 743},\n",
       "   {'year': 1756, 'flows': 621},\n",
       "   {'year': 1757, 'flows': 787},\n",
       "   {'year': 1758, 'flows': 570},\n",
       "   {'year': 1759, 'flows': 417},\n",
       "   {'year': 1760, 'flows': 338},\n",
       "   {'year': 1761, 'flows': 373},\n",
       "   {'year': 1762, 'flows': 284},\n",
       "   {'year': 1764, 'flows': 191},\n",
       "   {'year': 1765, 'flows': 448},\n",
       "   {'year': 1766, 'flows': 391},\n",
       "   {'year': 1767, 'flows': 412},\n",
       "   {'year': 1768, 'flows': 355},\n",
       "   {'year': 1769, 'flows': 324},\n",
       "   {'year': 1770, 'flows': 406},\n",
       "   {'year': 1771, 'flows': 378},\n",
       "   {'year': 1772, 'flows': 383},\n",
       "   {'year': 1773, 'flows': 396},\n",
       "   {'year': 1774, 'flows': 425},\n",
       "   {'year': 1775, 'flows': 355},\n",
       "   {'year': 1776, 'flows': 352},\n",
       "   {'year': 1777, 'flows': 30},\n",
       "   {'year': 1778, 'flows': 319},\n",
       "   {'year': 1779, 'flows': 245},\n",
       "   {'year': 1780, 'flows': 229},\n",
       "   {'year': 1787, 'flows': 107},\n",
       "   {'year': 1788, 'flows': 99},\n",
       "   {'year': 1789, 'flows': 1061}]}]"
      ]
     },
     "execution_count": 19,
     "metadata": {},
     "output_type": "execute_result"
    }
   ],
   "source": [
    "client.toflit.get_flows_per_year('direction')[1:2]"
   ]
  },
  {
   "cell_type": "markdown",
   "metadata": {},
   "source": [
    "## client.toflit.get_product_terms(classification, params)\n",
    "\n",
    "Synopsis :\n",
    "\n",
    "Récupère des séries temporelles à propos des flux de marchandises\n",
    "\n",
    "---\n",
    "\n",
    "Paramètre `classification` : l'id de la classification de produit à utiliser\n",
    "\n",
    "---\n",
    "\n",
    "Paramètres de requête spécifiques :\n",
    "\n",
    "| nom | type | valeurs | défault | description |\n",
    "|---|---|---|---|---|\n",
    "| dateMin | entier | (années) | ? | année de début |\n",
    "| dateMax | entier | (années) | ? | année de fin |\n",
    "| kind | string | ('total', 'import', 'export') | 'total' | type de flux |\n",
    "| sourceType | string | (types de source) | ? | id du type de source à utiliser |\n",
    "| partner | liste d'objets | (objects avec {\"name\",\"id\"}) | None | les partenaires commerciaux à prendre en compte (e.g. {name: 'Alsace', id: 'Alsace~partner_orthographic'}) |\n",
    "| partnerClassification | string | (ids de classification) | None | Classification de partenaire à utiliser pour le filtre |\n",
    "| child | liste d'objets | (objects avec {{\"id\",\"name\",\"value\"}) | None | liste des produits à filtrer |\n",
    "| childClassification | string | (ids de classification) | None | Classification de produit à utiliser pour le filtre |\n",
    "| direction | chaîne | (noms de direction) | '$all$' | nom de la direction à filtrer |\n",
    "\n",
    "---\n",
    "\n",
    "### Exemple"
   ]
  },
  {
   "cell_type": "code",
   "execution_count": 20,
   "metadata": {},
   "outputs": [
    {
     "name": "stdout",
     "output_type": "stream",
     "text": [
      "-----------FINAL QUERY-----------\n",
      "POST http://toflit18.medialab.sciences-po.fr/api/viz/terms/product_simplification\n",
      "Content-Length: 0\n",
      "\n",
      "None\n",
      "('data', '{\\n  \"child\": [\\n    {\\n      \"id\": \"Raw_materials,_inedible,_except_fuels~product_sitc_EN\",\\n      \"name\": \"Raw materials, inedible, except fuels\",\\n      \"value\": \"Raw_materials,_inedible,_except_fuels~product_sitc_EN\"\\n    }\\n  ],\\n  \"sourceType\": \"National best guess\",\\n  \"dateMin\": 1750,\\n  \"dateMax\": 1750\\n}')\n"
     ]
    },
    {
     "data": {
      "text/plain": [
       "[{'source': 'Yeux', 'target': 'Écrevisses', 'flows': 11},\n",
       " {'source': 'Vulnéraire', 'target': 'Suisse', 'flows': 2},\n",
       " {'source': 'Volants', 'target': 'Camelot', 'flows': 1}]"
      ]
     },
     "execution_count": 20,
     "metadata": {},
     "output_type": "execute_result"
    }
   ],
   "source": [
    "client.toflit.get_product_terms('product_simplification', {\n",
    "\"child\": [\n",
    " {\n",
    "  \"id\": \"Raw_materials,_inedible,_except_fuels~product_sitc_EN\",\n",
    "  \"name\": \"Raw materials, inedible, except fuels\",\n",
    "  \"value\": \"Raw_materials,_inedible,_except_fuels~product_sitc_EN\"\n",
    "  }\n",
    " ],\n",
    " \"sourceType\": \"National best guess\",\n",
    " \"dateMin\": 1750,\n",
    " \"dateMax\": 1750,\n",
    "})['data'][0:3]"
   ]
  },
  {
   "cell_type": "markdown",
   "metadata": {},
   "source": [
    "## client.toflit.get_flows(params)\n",
    "\n",
    "Synopsis :\n",
    "\n",
    "Récupère les flux un par un à partir de paramètres donnés\n",
    "\n",
    "---\n",
    "\n",
    "Paramètres de requête spécifiques :\n",
    "\n",
    "| nom | type | valeurs | défault | description |\n",
    "|---|---|---|---|---|\n",
    "| limit | entier | ? | 100 | nombre d'entrées à renvoyer |\n",
    "| skip | entier | ? | 0 | index à partir duquel renvoyer des entrées |\n",
    "| columns | tableau de chaînes | à faire |[] | colonnes à intégrer dans les données renvoyées |\n",
    "| dateMin | entier | (années) | ? | année de début |\n",
    "| dateMax | entier | (années) | ? | année de fin |\n",
    "| kind | string | ('total', 'import', 'export') | 'total' | type de flux |\n",
    "| sourceType | string | (types de source) | ? | id du type de source à utiliser |\n",
    "| partner | liste d'objets | (objects avec {\"name\",\"id\"}) | None | les partenaires commerciaux à prendre en compte (e.g. {name: 'Alsace', id: 'Alsace~partner_orthographic'}) |\n",
    "| partnerClassification | string | (ids de classification) | None | Classification de partenaire à utiliser pour le filtre |\n",
    "| product | liste d'objets | (objects avec {{\"id\",\"name\",\"value\"}) | None | liste des produits à filtrer |\n",
    "| productClassification | string | (ids de classification) | None | Classification de produit à utiliser pour le filtre |\n",
    "| direction | chaîne | (noms de direction) | '$all$' | nom de la direction à filtrer |\n",
    "\n",
    "\n",
    "### Exemple"
   ]
  },
  {
   "cell_type": "code",
   "execution_count": 4,
   "metadata": {},
   "outputs": [
    {
     "data": {
      "text/plain": [
       "[{'rowIndex': '001',\n",
       "  'product': 'Non indiqué',\n",
       "  'direction': None,\n",
       "  'year': 1756,\n",
       "  'partner': 'Suède',\n",
       "  'import': False,\n",
       "  'value': 1006,\n",
       "  'source': 'BM Rouen, Fonds Montbret, 155-1 (2e partie)'},\n",
       " {'rowIndex': '011',\n",
       "  'product': 'Non indiqué',\n",
       "  'direction': None,\n",
       "  'year': 1756,\n",
       "  'partner': 'Nord',\n",
       "  'import': False,\n",
       "  'value': 9017,\n",
       "  'source': 'BM Rouen, Fonds Montbret, 155-1 (2e partie)'},\n",
       " {'rowIndex': '021',\n",
       "  'product': 'Non indiqué',\n",
       "  'direction': None,\n",
       "  'year': 1756,\n",
       "  'partner': 'Italie',\n",
       "  'import': False,\n",
       "  'value': 247,\n",
       "  'source': 'BM Rouen, Fonds Montbret, 155-1 (2e partie)'}]"
      ]
     },
     "execution_count": 4,
     "metadata": {},
     "output_type": "execute_result"
    }
   ],
   "source": [
    "client.toflit.get_flows({\n",
    " \"productClassification\": \"product_sitc_EN\",\n",
    " \"sourceType\": \"Best Guess national product x partner\",\n",
    " \"dateMin\": 1720,\n",
    " \"dateMax\": 1780,\n",
    " \"limit\": 1000,\n",
    " \"skip\": 0,\n",
    " \"columns\": [\n",
    "    \"product\",\n",
    "    \"direction\",\n",
    "    \"year\",\n",
    "    \"partner\",\n",
    "    \"import\",\n",
    "    \"value\",\n",
    "    \"source\"\n",
    " ]\n",
    "})[0:3]"
   ]
  },
  {
   "cell_type": "code",
   "execution_count": null,
   "metadata": {},
   "outputs": [],
   "source": []
  }
 ],
 "metadata": {
  "kernelspec": {
   "display_name": "Python 3",
   "language": "python",
   "name": "python3"
  },
  "language_info": {
   "codemirror_mode": {
    "name": "ipython",
    "version": 3
   },
   "file_extension": ".py",
   "mimetype": "text/x-python",
   "name": "python",
   "nbconvert_exporter": "python",
   "pygments_lexer": "ipython3",
   "version": "3.8.5"
  }
 },
 "nbformat": 4,
 "nbformat_minor": 4
}
