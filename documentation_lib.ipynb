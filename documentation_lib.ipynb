{
 "cells": [
  {
   "cell_type": "markdown",
   "metadata": {},
   "source": [
    " # Doc de la lib construite pour explorer PORTIC\n",
    " \n",
    " Objectif de cette lib : abstraire le fonctionnement des APIs de PORTIC et de TOFLIT18 à travers un client facile à manipuler.\n",
    "    \n",
    "    Accessoirement, apprendre à connaître les deux APIs en fabriquant ce client et construire une doc personnelle.\n",
    "    \n",
    "    Voir la doc de l'API PORTIC ici : https://gitlab.huma-num.fr/portic/porticapi/-/tree/master/porticapi\n",
    "    \n",
    "    Voir le code de l'API toflit18 ici : https://github.com/medialab/toflit18"
   ]
  },
  {
   "cell_type": "markdown",
   "metadata": {},
   "source": [
    "# bootstrapping du client"
   ]
  },
  {
   "cell_type": "code",
   "execution_count": 2,
   "metadata": {},
   "outputs": [],
   "source": [
    "from lib.client import Api\n",
    "import json\n",
    "\n",
    "client = Api()"
   ]
  },
  {
   "cell_type": "markdown",
   "metadata": {},
   "source": [
    "# Méthodes pour l'accès à PORTIC\n",
    "\n",
    "Paramètres généraux pouvant être appliqués à (presque) toutes les méthodes de `client.portic` :\n",
    "\n",
    "| nom | type | valeurs | défault | description |\n",
    "|---|---|---|---|---|\n",
    "|params|liste de chaînes| ('all', ... tous les noms de params) | all | attributs à intégrer dans la réponse |\n",
    "|format|chaîne| ('json','csv')| json | format de la réponse|\n",
    "|shortenfields| booléen | (true, false) | false | permet de raccourcir les noms des attributs et donc d'alléger la taille du JSON téléchargé.|\n",
    "|both_to| booléen | (true,false) | false | permet de récupérer les données concernant l'arrivée d'un voyage en plus des données du départ (données par défaut). |\n",
    "| date | string format YYYY | (...années) | 1787 | pour filtrer les données sur une année donnée. L'année de la date d'arrivée ou de la date de départ doit commencer par ces 4 digits : 1787 ou  1789 par exemple. Exemple : http://data.portic.fr/api/pointcalls/?format=json&date=1789 |\n",
    "| zipped | booléen | (true, false) | false | ... |\n"
   ]
  },
  {
   "cell_type": "markdown",
   "metadata": {},
   "source": [
    "## client.portic.get_fieldnames(params)\n",
    "\n",
    "Synopsis:\n",
    "Récupère les noms des variables des données.\n",
    "\n",
    "---\n",
    "\n",
    "Paramètres de requête spécifiques :\n",
    "\n",
    "| nom | type | valeurs | défault | description |\n",
    "|---|---|---|---|---|\n",
    "| API | string | ('pointcalls', 'travels', 'any') | pour réduire la requête à une api particulière |\n",
    "\n",
    "### Exemple"
   ]
  },
  {
   "cell_type": "code",
   "execution_count": 4,
   "metadata": {},
   "outputs": [
    {
     "ename": "NameError",
     "evalue": "name 'client' is not defined",
     "output_type": "error",
     "traceback": [
      "\u001b[0;31m---------------------------------------------------------------------------\u001b[0m",
      "\u001b[0;31mNameError\u001b[0m                                 Traceback (most recent call last)",
      "\u001b[0;32m<ipython-input-4-7e95d0cce193>\u001b[0m in \u001b[0;36m<module>\u001b[0;34m\u001b[0m\n\u001b[0;32m----> 1\u001b[0;31m \u001b[0mclient\u001b[0m\u001b[0;34m.\u001b[0m\u001b[0mportic\u001b[0m\u001b[0;34m.\u001b[0m\u001b[0mget_fieldnames\u001b[0m\u001b[0;34m(\u001b[0m\u001b[0;34m)\u001b[0m\u001b[0;34m[\u001b[0m\u001b[0;36m0\u001b[0m\u001b[0;34m:\u001b[0m\u001b[0;36m1\u001b[0m\u001b[0;34m]\u001b[0m\u001b[0;34m\u001b[0m\u001b[0;34m\u001b[0m\u001b[0m\n\u001b[0m",
      "\u001b[0;31mNameError\u001b[0m: name 'client' is not defined"
     ]
    }
   ],
   "source": [
    "client.portic.get_fieldnames()[0:1]"
   ]
  },
  {
   "cell_type": "markdown",
   "metadata": {},
   "source": [
    "## client.portic.get_pointcalls(params)\n",
    "\n",
    "\n",
    "Synopsis:\n",
    "\n",
    "---\n",
    "\n",
    "Paramètres de requête spécifiques :\n",
    "\n",
    "| nom | type | valeurs | défault | description |\n",
    "|---|---|---|---|---|\n",
    "| API | string | ('pointcalls', 'travels', 'any') | pour réduire la requête à une api particulière |\n",
    "\n",
    "### Exemple"
   ]
  },
  {
   "cell_type": "code",
   "execution_count": null,
   "metadata": {},
   "outputs": [],
   "source": [
    "client.portic.get_pointcalls({\n",
    "    'date': 1787\n",
    "})[0:1]"
   ]
  },
  {
   "cell_type": "markdown",
   "metadata": {},
   "source": [
    "## client.portic.get_travels(params)\n",
    "\n",
    "\n",
    "Synopsis:\n",
    "\n",
    "Récupère les données de trajectoires calculées.\n",
    "\n",
    "---\n",
    "\n",
    "Paramètres de requête spécifiques :\n",
    "\n",
    "| nom | type | valeurs | défault | description |\n",
    "|---|---|---|---|---|\n",
    "\n",
    "\n",
    "### Exemple"
   ]
  },
  {
   "cell_type": "code",
   "execution_count": null,
   "metadata": {},
   "outputs": [],
   "source": [
    "client.portic.get_travels({\n",
    "    'date': 1787\n",
    "})[0:1]"
   ]
  },
  {
   "cell_type": "markdown",
   "metadata": {},
   "source": [
    "## client.portic.get_departures_details(params)\n",
    "\n",
    "\n",
    "Synopsis:\n",
    "\n",
    "Retourne le détail des *voyages* au départ des points situés dans le voisinage (voir paramètre radius) du point requêté.\n",
    "\n",
    "---\n",
    "\n",
    "Paramètres de requête spécifiques :\n",
    "\n",
    "| nom | type | valeurs | défault | description |\n",
    "|---|---|---|---|---|\n",
    "| lon | flottant | (minLon,maxLon) | ? | longitude du centre de la zone à requêter|\n",
    "| lat | flottant | (minLat,maxLat) | ? | latitude du centre de la zone à requêter|\n",
    "| radius | flottant | (0,?) | 100 ? |  rayon en kilomètres |\n",
    "\n",
    "\n",
    "### Exemple"
   ]
  },
  {
   "cell_type": "code",
   "execution_count": 4,
   "metadata": {},
   "outputs": [
    {
     "data": {
      "text/plain": [
       "[{'departure': 'Castelnaut',\n",
       "  'departure_uhgs_id': 'A0213627',\n",
       "  'departure_latitude': '45.033333',\n",
       "  'departure_longitude': '-0.8'}]"
      ]
     },
     "execution_count": 4,
     "metadata": {},
     "output_type": "execute_result"
    }
   ],
   "source": [
    "client.portic.get_departures_details({\n",
    " 'lat': 45.2333,\n",
    " 'lon': -1,\n",
    " 'radius': 50\n",
    "})[0:1]"
   ]
  },
  {
   "cell_type": "markdown",
   "metadata": {},
   "source": [
    "## client.portic.get_departures_aggregated(params)\n",
    "\n",
    "\n",
    "Synopsis:\n",
    "\n",
    "Retourne une agrégation des *voyages* au départ des points situés dans le voisinage (voir paramètre radius) du point requêté.\n",
    "\n",
    "---\n",
    "\n",
    "Paramètres de requête spécifiques :\n",
    "\n",
    "| nom | type | valeurs | défault | description |\n",
    "|---|---|---|---|---|\n",
    "| lon | flottant | (minLon,maxLon) | ? | longitude du centre de la zone à requêter|\n",
    "| lat | flottant | (minLat,maxLat) | ? | latitude du centre de la zone à requêter|\n",
    "| radius | flottant | (0,?) | 100 ? |  rayon en kilomètres |\n",
    "\n",
    "### Exemple"
   ]
  },
  {
   "cell_type": "code",
   "execution_count": null,
   "metadata": {},
   "outputs": [],
   "source": [
    "\"\"\" Seems not available ?\n",
    "client.portic.get_departures_aggregated({\n",
    " 'lat': 45.2333,\n",
    " 'lon': -1,\n",
    " 'radius': 50\n",
    "})[0:1]\n",
    "\"\"\""
   ]
  },
  {
   "cell_type": "markdown",
   "metadata": {},
   "source": [
    "## client.portic.get_directions_details(params)\n",
    "\n",
    "\n",
    "Synopsis:\n",
    "\n",
    "Retourne le détail des *voyages* à l'arrivée des points situés dans le voisinage (voir paramètre radius) du point requêté.\n",
    "\n",
    "---\n",
    "\n",
    "Paramètres de requête spécifiques :\n",
    "\n",
    "| nom | type | valeurs | défault | description |\n",
    "|---|---|---|---|---|\n",
    "| lon | flottant | (minLon,maxLon) | ? | longitude du centre de la zone à requêter|\n",
    "| lat | flottant | (minLat,maxLat) | ? | latitude du centre de la zone à requêter|\n",
    "| radius | flottant | (0,?) | 100 ? |  rayon en kilomètres |\n",
    "\n",
    "\n",
    "### Exemple"
   ]
  },
  {
   "cell_type": "code",
   "execution_count": null,
   "metadata": {},
   "outputs": [],
   "source": [
    "\"\"\" Seems not available ?\n",
    "client.portic.get_destinations_details({\n",
    " 'lat': 45.2333,\n",
    " 'lon': -1,\n",
    " 'radius': 50\n",
    "})[0:1]\n",
    "\"\"\""
   ]
  },
  {
   "cell_type": "markdown",
   "metadata": {},
   "source": [
    "## client.portic.get_destinations_aggregated(params)\n",
    "\n",
    "Synopsis:\n",
    "\n",
    "Retourne une aggrégation des *voyages* à l'arrivée des points situés dans le voisinage (voir paramètre radius) du point requêté.\n",
    "\n",
    "---\n",
    "\n",
    "Paramètres de requête spécifiques :\n",
    "\n",
    "| nom | type | valeurs | défault | description |\n",
    "|---|---|---|---|---|\n",
    "| lon | flottant | (minLon,maxLon) | ? | longitude du centre de la zone à requêter|\n",
    "| lat | flottant | (minLat,maxLat) | ? | latitude du centre de la zone à requêter|\n",
    "| radius | flottant | (0,?) | 100 ? |  rayon en kilomètres |\n",
    "\n",
    "\n",
    "### Exemple"
   ]
  },
  {
   "cell_type": "code",
   "execution_count": null,
   "metadata": {},
   "outputs": [],
   "source": [
    "client.portic.get_destinations_aggregated({\n",
    " 'lat': 45.2333,\n",
    " 'lon': -1,\n",
    " 'radius': 50\n",
    "})[0:1]"
   ]
  },
  {
   "cell_type": "markdown",
   "metadata": {},
   "source": [
    "## client.portic.get_flows(params)\n",
    "\n",
    "Synopsis:\n",
    "\n",
    "Retourne une liste de flux, c'est-à-dire de voyages liés à des ports spécifiques, soit en y entrant (direction \"in\"), soit en en sortant (direction \"out\"), soit en ayant navigué autour (direction \"in-out\")\n",
    "\n",
    "---\n",
    "\n",
    "Paramètres de requête spécifiques :\n",
    "\n",
    "| nom | type | valeurs | défault | description |\n",
    "|---|---|---|---|---|\n",
    "| ports | entier | UHGS_id | 4326 | liste des ids de ports à filtrer (séparés par des virgules)\n",
    "\n",
    "\n",
    "### Exemple"
   ]
  },
  {
   "cell_type": "code",
   "execution_count": null,
   "metadata": {},
   "outputs": [],
   "source": [
    "# Exemple de requête : tous les bateaux passant par Bordeaux (A0180923) et Boulogne sur Mer (A0152606)\n",
    "\n",
    "resp = client.portic.get_flows({\n",
    " 'ports': ['A0180923', 'A0152606'],\n",
    " 'params': [ 'travel_rank', 'ship_id', 'departure', 'destination', 'travel_uncertainty', 'distance_dep_dest']\n",
    "})\n",
    "print(json.dumps(resp[0:1], indent=2))"
   ]
  },
  {
   "cell_type": "markdown",
   "metadata": {},
   "source": [
    "## client.portic.get_ports(params)\n",
    "\n",
    "Synopsis:\n",
    "\n",
    "Retourne une liste de flux, c'est-à-dire de voyages liés à des ports spécifiques, soit en y entrant (direction \"in\"), soit en en sortant (direction \"out\"), soit en ayant navigué autour (direction \"in-out\")\n",
    "\n",
    "---\n",
    "\n",
    "Paramètres de requête spécifiques :\n",
    "\n",
    "| nom | type | valeurs | défault | description |\n",
    "|---|---|---|---|---|\n",
    "| ports | entier | UHGS_id | 4326 | liste des ids de ports à filtrer (séparés par des virgules)\n",
    "\n",
    "\n",
    "### Exemple"
   ]
  },
  {
   "cell_type": "code",
   "execution_count": null,
   "metadata": {},
   "outputs": [],
   "source": [
    "resp = client.portic.get_ports({\n",
    "    'srid': 4326\n",
    "})\n",
    "print(json.dumps(resp[0:1], indent=2))"
   ]
  },
  {
   "cell_type": "markdown",
   "metadata": {},
   "source": [
    "# Méthodes pour l'accès à TOFLIT\n",
    "\n",
    "Méthodes pouvant être appelées depuis `client.toflit` :"
   ]
  },
  {
   "cell_type": "markdown",
   "metadata": {},
   "source": [
    "## client.toflit.get_directions()\n",
    "\n",
    "Synopsis :\n",
    "\n",
    "Récupère les directions de la base\n",
    "\n",
    "---\n",
    "\n",
    "### Exemple"
   ]
  },
  {
   "cell_type": "code",
   "execution_count": null,
   "metadata": {},
   "outputs": [],
   "source": [
    "client.toflit.get_directions()"
   ]
  },
  {
   "cell_type": "markdown",
   "metadata": {},
   "source": [
    "## client.toflit.get_sources_types()\n",
    "\n",
    "Synopsis :\n",
    "\n",
    "Récupère les types de sources disponibles\n",
    "\n",
    "---\n",
    "\n",
    "### Exemple"
   ]
  },
  {
   "cell_type": "code",
   "execution_count": null,
   "metadata": {},
   "outputs": [],
   "source": [
    "client.toflit.get_sources_types()"
   ]
  },
  {
   "cell_type": "markdown",
   "metadata": {},
   "source": [
    "## client.toflit.get_product_classifications(classification)\n",
    "\n",
    "Synopsis :\n",
    "\n",
    "Récupère les classifications de produits\n",
    "\n",
    "---\n",
    "\n",
    "### Exemple"
   ]
  },
  {
   "cell_type": "code",
   "execution_count": null,
   "metadata": {},
   "outputs": [],
   "source": [
    "resp = client.toflit.get_product_classifications()\n",
    "# removing children for the sake of logging\n",
    "resp['children'] = None\n",
    "print(json.dumps(resp, indent=2))"
   ]
  },
  {
   "cell_type": "markdown",
   "metadata": {},
   "source": [
    "## client.toflit.get_partner_classifications()\n",
    "\n",
    "Synopsis :\n",
    "\n",
    "Récupère les classifications de partenaires\n",
    "\n",
    "---\n",
    "\n",
    "### Exemple"
   ]
  },
  {
   "cell_type": "code",
   "execution_count": null,
   "metadata": {},
   "outputs": [],
   "source": [
    "resp = client.toflit.get_partner_classifications()\n",
    "# removing children for the sake of logging\n",
    "resp['children'] = None\n",
    "print(json.dumps(resp, indent=2))"
   ]
  },
  {
   "cell_type": "markdown",
   "metadata": {},
   "source": [
    "## client.toflit.get_classification_groups(classification)\n",
    "\n",
    "Synopsis :\n",
    "\n",
    "Récupère l'ensemble des catégories associées à une classification en particulier (sans le détail des valeurs)\n",
    "\n",
    "---\n",
    "\n",
    "### Exemple"
   ]
  },
  {
   "cell_type": "code",
   "execution_count": null,
   "metadata": {},
   "outputs": [],
   "source": [
    "client.toflit.get_classification_groups('partner_grouping')[0:2]"
   ]
  },
  {
   "cell_type": "markdown",
   "metadata": {},
   "source": [
    "## client.toflit.get_classification_search(classification)\n",
    "\n",
    "Synopsis :\n",
    "\n",
    "Récupère le détail des groupements associés à une classification en particulier.\n",
    "\n",
    "---\n",
    "\n",
    "Paramètre d'URL `classification` : le nom de la classification préfixé par son type (ex. \"product_simplification\", ou \"partner_source\")\n",
    "\n",
    "---\n",
    "\n",
    "### Exemple"
   ]
  },
  {
   "cell_type": "code",
   "execution_count": null,
   "metadata": {},
   "outputs": [],
   "source": [
    "client.toflit.get_classification_search('partner_grouping')[0:2]"
   ]
  },
  {
   "cell_type": "markdown",
   "metadata": {},
   "source": [
    "## client.toflit.get_locations(classification, params)\n",
    "\n",
    "Synopsis :\n",
    "\n",
    "Récupère le réseau des lieux (directions et partenaires) et le montant de leurs échanges\n",
    "\n",
    "---\n",
    "\n",
    "Paramètre `classification` : l'id de la classification de partenaire à utiliser\n",
    "\n",
    "---\n",
    "\n",
    "Paramètres de requête spécifiques :\n",
    "\n",
    "| nom | type | valeurs | défault | description |\n",
    "|---|---|---|---|---|\n",
    "| dateMin | entier | (années) | ? | année de début |\n",
    "| dateMax | entier | (années) | ? | année de fin |\n",
    "| kind | string | ('total', 'import', 'export') | 'total' | type de flux |\n",
    "| sourceType | string | (types de source) | ? | id du type de source à utiliser |\n",
    "| product | liste d'objets | (objects avec {{\"id\",\"name\",\"value\"}) | None | liste des produits à filtrer |\n",
    "| productClassification | string | (ids de classification) | None | Classification de produit à utiliser pour le filtre |\n",
    "\n",
    "---\n",
    "\n",
    "### Exemple"
   ]
  },
  {
   "cell_type": "code",
   "execution_count": null,
   "metadata": {},
   "outputs": [],
   "source": [
    "client.toflit.get_locations('partner_grouping', {\n",
    "    'dateMax': 1750,\n",
    "    'dateMin': 1750,\n",
    "    'kind': 'total',\n",
    "    'sourceType': 'National best guess'\n",
    "})[0: 2]"
   ]
  },
  {
   "cell_type": "markdown",
   "metadata": {},
   "source": [
    "## client.toflit.get_time_series(params)\n",
    "\n",
    "Synopsis :\n",
    "\n",
    "Récupère des séries temporelles à propos des flux de marchandises\n",
    "\n",
    "---\n",
    "\n",
    "Paramètres de requête spécifiques :\n",
    "\n",
    "| nom | type | valeurs | défault | description |\n",
    "|---|---|---|---|---|\n",
    "| dateMin | entier | (années) | ? | année de début |\n",
    "| dateMax | entier | (années) | ? | année de fin |\n",
    "| kind | string | ('total', 'import', 'export') | 'total' | type de flux |\n",
    "| sourceType | string | (types de source) | ? | id du type de source à utiliser |\n",
    "| partner | liste d'objets | (objects avec {\"name\",\"id\"}) | None | les partenaires commerciaux à prendre en compte (e.g. {name: 'Alsace', id: 'Alsace~partner_orthographic'}) |\n",
    "| partnerClassification | string | (ids de classification) | None | Classification de partenaire à utiliser pour le filtre |\n",
    "| product | liste d'objets | (objects avec {{\"id\",\"name\",\"value\"}) | None | liste des produits à filtrer |\n",
    "| productClassification | string | (ids de classification) | None | Classification de produit à utiliser pour le filtre |\n",
    "| direction | chaîne | (noms de direction) | '$all$' | nom de la direction à filtrer |\n",
    "\n",
    "---\n",
    "\n",
    "### Exemple"
   ]
  },
  {
   "cell_type": "code",
   "execution_count": null,
   "metadata": {},
   "outputs": [],
   "source": [
    "client.toflit.get_time_series({\n",
    "    'direction': 'La_Rochelle'\n",
    "})[0:2]"
   ]
  },
  {
   "cell_type": "markdown",
   "metadata": {},
   "source": [
    "## client.toflit.get_flows_per_year(type, params)\n",
    "\n",
    "Synopsis :\n",
    "\n",
    "Récupère les flux par année par direction ou par type de source\n",
    "\n",
    "---\n",
    "\n",
    "Paramètre `type` : le type de flux 'direction' ou 'sourceType'\n",
    "\n",
    "---\n",
    "\n",
    "Paramètres de requête spécifiques :\n",
    "\n",
    "| nom | type | valeurs | défault | description |\n",
    "|---|---|---|---|---|\n",
    "| dateMin | entier | (années) | ? | année de début |\n",
    "| dateMax | entier | (années) | ? | année de fin |\n",
    "| kind | string | ('total', 'import', 'export') | 'total' | type de flux |\n",
    "| sourceType | string | (types de source) | ? | id du type de source à utiliser |\n",
    "| partner | liste d'objets | (objects avec {\"name\",\"id\"}) | None | les partenaires commerciaux à prendre en compte (e.g. {name: 'Alsace', id: 'Alsace~partner_orthographic'}) |\n",
    "| partnerClassification | string | (ids de classification) | None | Classification de partenaire à utiliser pour le filtre |\n",
    "| product | liste d'objets | (objects avec {{\"id\",\"name\",\"value\"}) | None | liste des produits à filtrer |\n",
    "| productClassification | string | (ids de classification) | None | Classification de produit à utiliser pour le filtre |\n",
    "| direction | chaîne | (noms de direction) | '$all$' | nom de la direction à filtrer |\n",
    "\n",
    "---\n",
    "\n",
    "### Exemple"
   ]
  },
  {
   "cell_type": "code",
   "execution_count": null,
   "metadata": {},
   "outputs": [],
   "source": [
    "client.toflit.get_flows_per_year('direction')[1:2]"
   ]
  },
  {
   "cell_type": "markdown",
   "metadata": {},
   "source": [
    "## client.toflit.get_product_terms(classification, params)\n",
    "\n",
    "Synopsis :\n",
    "\n",
    "Récupère des séries temporelles à propos des flux de marchandises\n",
    "\n",
    "---\n",
    "\n",
    "Paramètre `classification` : l'id de la classification de produit à utiliser\n",
    "\n",
    "---\n",
    "\n",
    "Paramètres de requête spécifiques :\n",
    "\n",
    "| nom | type | valeurs | défault | description |\n",
    "|---|---|---|---|---|\n",
    "| dateMin | entier | (années) | ? | année de début |\n",
    "| dateMax | entier | (années) | ? | année de fin |\n",
    "| kind | string | ('total', 'import', 'export') | 'total' | type de flux |\n",
    "| sourceType | string | (types de source) | ? | id du type de source à utiliser |\n",
    "| partner | liste d'objets | (objects avec {\"name\",\"id\"}) | None | les partenaires commerciaux à prendre en compte (e.g. {name: 'Alsace', id: 'Alsace~partner_orthographic'}) |\n",
    "| partnerClassification | string | (ids de classification) | None | Classification de partenaire à utiliser pour le filtre |\n",
    "| child | liste d'objets | (objects avec {{\"id\",\"name\",\"value\"}) | None | liste des produits à filtrer |\n",
    "| childClassification | string | (ids de classification) | None | Classification de produit à utiliser pour le filtre |\n",
    "| direction | chaîne | (noms de direction) | '$all$' | nom de la direction à filtrer |\n",
    "\n",
    "---\n",
    "\n",
    "### Exemple"
   ]
  },
  {
   "cell_type": "code",
   "execution_count": null,
   "metadata": {},
   "outputs": [],
   "source": [
    "client.toflit.get_product_terms('product_simplification', {\n",
    "\"child\": [\n",
    " {\n",
    "  \"id\": \"Raw_materials,_inedible,_except_fuels~product_sitc_EN\",\n",
    "  \"name\": \"Raw materials, inedible, except fuels\",\n",
    "  \"value\": \"Raw_materials,_inedible,_except_fuels~product_sitc_EN\"\n",
    "  }\n",
    " ],\n",
    " \"sourceType\": \"National best guess\",\n",
    " \"dateMin\": 1750,\n",
    " \"dateMax\": 1750,\n",
    "})['data'][0:3]"
   ]
  },
  {
   "cell_type": "markdown",
   "metadata": {},
   "source": [
    "## client.toflit.get_flows(params)\n",
    "\n",
    "Synopsis :\n",
    "\n",
    "Récupère les flux un par un à partir de paramètres donnés\n",
    "\n",
    "---\n",
    "\n",
    "Paramètres de requête spécifiques :\n",
    "\n",
    "| nom | type | valeurs | défault | description |\n",
    "|---|---|---|---|---|\n",
    "| limit | entier | ? | 100 | nombre d'entrées à renvoyer |\n",
    "| skip | entier | ? | 0 | index à partir duquel renvoyer des entrées |\n",
    "| columns | tableau de chaînes | à faire |[] | colonnes à intégrer dans les données renvoyées |\n",
    "| dateMin | entier | (années) | ? | année de début |\n",
    "| dateMax | entier | (années) | ? | année de fin |\n",
    "| kind | string | ('total', 'import', 'export') | 'total' | type de flux |\n",
    "| sourceType | string | (types de source) | ? | id du type de source à utiliser |\n",
    "| partner | liste d'objets | (objects avec {\"name\",\"id\"}) | None | les partenaires commerciaux à prendre en compte (e.g. {name: 'Alsace', id: 'Alsace~partner_orthographic'}) |\n",
    "| partnerClassification | string | (ids de classification) | None | Classification de partenaire à utiliser pour le filtre |\n",
    "| product | liste d'objets | (objects avec {{\"id\",\"name\",\"value\"}) | None | liste des produits à filtrer |\n",
    "| productClassification | string | (ids de classification) | None | Classification de produit à utiliser pour le filtre |\n",
    "| direction | chaîne | (noms de direction) | '$all$' | nom de la direction à filtrer |\n",
    "\n",
    "\n",
    "### Exemple"
   ]
  },
  {
   "cell_type": "code",
   "execution_count": 3,
   "metadata": {},
   "outputs": [
    {
     "data": {
      "text/plain": [
       "[{'rowIndex': '001',\n",
       "  'product': 'Non indiqué',\n",
       "  'direction': None,\n",
       "  'year': 1756,\n",
       "  'partner': 'Suède',\n",
       "  'import': False,\n",
       "  'value': 1006,\n",
       "  'source': 'BM Rouen, Fonds Montbret, 155-1 (2e partie)'},\n",
       " {'rowIndex': '011',\n",
       "  'product': 'Non indiqué',\n",
       "  'direction': None,\n",
       "  'year': 1756,\n",
       "  'partner': 'Nord',\n",
       "  'import': False,\n",
       "  'value': 9017,\n",
       "  'source': 'BM Rouen, Fonds Montbret, 155-1 (2e partie)'},\n",
       " {'rowIndex': '021',\n",
       "  'product': 'Non indiqué',\n",
       "  'direction': None,\n",
       "  'year': 1756,\n",
       "  'partner': 'Italie',\n",
       "  'import': False,\n",
       "  'value': 247,\n",
       "  'source': 'BM Rouen, Fonds Montbret, 155-1 (2e partie)'}]"
      ]
     },
     "execution_count": 3,
     "metadata": {},
     "output_type": "execute_result"
    }
   ],
   "source": [
    "client.toflit.get_flows({\n",
    " \"productClassification\": \"product_sitc_EN\",\n",
    " \"sourceType\": \"Best Guess national product x partner\",\n",
    " \"dateMin\": 1720,\n",
    " \"dateMax\": 1780,\n",
    " \"limit\": 1000,\n",
    " \"skip\": 0,\n",
    " \"columns\": [\n",
    "    \"product\",\n",
    "    \"direction\",\n",
    "    \"year\",\n",
    "    \"partner\",\n",
    "    \"import\",\n",
    "    \"value\",\n",
    "    \"source\"\n",
    " ]\n",
    "})[0:3]"
   ]
  },
  {
   "cell_type": "code",
   "execution_count": null,
   "metadata": {},
   "outputs": [],
   "source": []
  }
 ],
 "metadata": {
  "kernelspec": {
   "display_name": "Python 3",
   "language": "python",
   "name": "python3"
  },
  "language_info": {
   "codemirror_mode": {
    "name": "ipython",
    "version": 3
   },
   "file_extension": ".py",
   "mimetype": "text/x-python",
   "name": "python",
   "nbconvert_exporter": "python",
   "pygments_lexer": "ipython3",
   "version": "3.8.5"
  }
 },
 "nbformat": 4,
 "nbformat_minor": 4
}
