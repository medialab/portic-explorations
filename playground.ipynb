{
 "cells": [
  {
   "cell_type": "code",
   "execution_count": 1,
   "metadata": {},
   "outputs": [],
   "source": [
    "# bootstrapping du client\n",
    "from lib.client import Api\n",
    "import json\n",
    "\n",
    "client = Api()"
   ]
  },
  {
   "cell_type": "code",
   "execution_count": 17,
   "metadata": {},
   "outputs": [
    {
     "name": "stdout",
     "output_type": "stream",
     "text": [
      "-----------FINAL QUERY-----------\n",
      "POST http://toflit18.medialab.sciences-po.fr/api/flows/\r\n",
      "Content-Length: 0\r\n",
      "\r\n",
      "None\n",
      "('data', '{\\n  \"columns\": [\\n    \"product\",\\n    \"region\",\\n    \"year\",\\n    \"partner\",\\n    \"import\",\\n    \"value\",\\n    \"source\"\\n  ],\\n  \"dateMax\": 1780,\\n  \"dateMin\": 1720,\\n  \"kind\": \"total\",\\n  \"limit\": 20000,\\n  \"productClassification\": \"product_sitc_EN\",\\n  \"region\": \"$all$\",\\n  \"skip\": 100,\\n  \"sourceType\": \"Best Guess national product x partner\"\\n}')\n"
     ]
    },
    {
     "name": "stderr",
     "output_type": "stream",
     "text": [
      "IOPub data rate exceeded.\n",
      "The notebook server will temporarily stop sending output\n",
      "to the client in order to avoid crashing it.\n",
      "To change this limit, set the config variable\n",
      "`--NotebookApp.iopub_data_rate_limit`.\n",
      "\n",
      "Current values:\n",
      "NotebookApp.iopub_data_rate_limit=1000000.0 (bytes/sec)\n",
      "NotebookApp.rate_limit_window=3.0 (secs)\n",
      "\n"
     ]
    },
    {
     "data": {
      "text/plain": [
       "20000"
      ]
     },
     "execution_count": 17,
     "metadata": {},
     "output_type": "execute_result"
    }
   ],
   "source": [
    "\n",
    "\n",
    "result = client.toflit.get_flows({\n",
    "\t\"columns\": [\n",
    "\t\t\"product\",\n",
    "\t\t\"region\",\n",
    "\t\t\"year\",\n",
    "\t\t\"partner\",\n",
    "\t\t\"import\",\n",
    "\t\t\"value\",\n",
    "\t\t\"source\"\n",
    "\t],\n",
    "\t\"dateMax\": 1780,\n",
    "\t\"dateMin\": 1720,\n",
    "\t\"kind\": \"total\",\n",
    "\t\"limit\": 20000,\n",
    "\t\"productClassification\": \"product_sitc_EN\",\n",
    "\t\"region\": \"$all$\",\n",
    "\t\"skip\": 100,\n",
    "\t\"sourceType\": \"Best Guess national product x partner\"\n",
    "})\n",
    "\n",
    "len(result)"
   ]
  },
  {
   "cell_type": "code",
   "execution_count": null,
   "metadata": {},
   "outputs": [],
   "source": []
  }
 ],
 "metadata": {
  "kernelspec": {
   "display_name": "Python 3",
   "language": "python",
   "name": "python3"
  },
  "language_info": {
   "codemirror_mode": {
    "name": "ipython",
    "version": 3
   },
   "file_extension": ".py",
   "mimetype": "text/x-python",
   "name": "python",
   "nbconvert_exporter": "python",
   "pygments_lexer": "ipython3",
   "version": "3.8.5"
  }
 },
 "nbformat": 4,
 "nbformat_minor": 4
}
