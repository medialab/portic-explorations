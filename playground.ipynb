{
 "cells": [
  {
   "cell_type": "code",
   "execution_count": 10,
   "metadata": {},
   "outputs": [],
   "source": [
    "# bootstrapping du client\n",
    "from lib.client import Api\n",
    "import json\n",
    "\n",
    "from vega import VegaLite\n",
    "import pandas as pd\n",
    "import networkx as nx\n",
    "from ipysigma import Sigma\n",
    "\n",
    "client = Api()"
   ]
  },
  {
   "cell_type": "code",
   "execution_count": 17,
   "metadata": {},
   "outputs": [
    {
     "name": "stdout",
     "output_type": "stream",
     "text": [
      "-----------FINAL QUERY-----------\n",
      "POST http://toflit18.medialab.sciences-po.fr/api/flows/\r\n",
      "Content-Length: 0\r\n",
      "\r\n",
      "None\n",
      "('data', '{\\n  \"columns\": [\\n    \"product\",\\n    \"region\",\\n    \"year\",\\n    \"partner\",\\n    \"import\",\\n    \"value\",\\n    \"source\"\\n  ],\\n  \"dateMax\": 1780,\\n  \"dateMin\": 1720,\\n  \"kind\": \"total\",\\n  \"limit\": 20000,\\n  \"productClassification\": \"product_sitc_EN\",\\n  \"region\": \"$all$\",\\n  \"skip\": 100,\\n  \"sourceType\": \"Best Guess national product x partner\"\\n}')\n"
     ]
    },
    {
     "name": "stderr",
     "output_type": "stream",
     "text": [
      "IOPub data rate exceeded.\n",
      "The notebook server will temporarily stop sending output\n",
      "to the client in order to avoid crashing it.\n",
      "To change this limit, set the config variable\n",
      "`--NotebookApp.iopub_data_rate_limit`.\n",
      "\n",
      "Current values:\n",
      "NotebookApp.iopub_data_rate_limit=1000000.0 (bytes/sec)\n",
      "NotebookApp.rate_limit_window=3.0 (secs)\n",
      "\n"
     ]
    },
    {
     "data": {
      "text/plain": [
       "20000"
      ]
     },
     "execution_count": 17,
     "metadata": {},
     "output_type": "execute_result"
    }
   ],
   "source": [
    "\n",
    "\n",
    "result = client.toflit.get_flows({\n",
    "\t\"columns\": [\n",
    "\t\t\"product\",\n",
    "\t\t\"region\",\n",
    "\t\t\"year\",\n",
    "\t\t\"partner\",\n",
    "\t\t\"import\",\n",
    "\t\t\"value\",\n",
    "\t\t\"source\"\n",
    "\t],\n",
    "\t\"dateMax\": 1780,\n",
    "\t\"dateMin\": 1720,\n",
    "\t\"kind\": \"total\",\n",
    "\t\"limit\": 20000,\n",
    "\t\"productClassification\": \"product_sitc_EN\",\n",
    "\t\"region\": \"$all$\",\n",
    "\t\"skip\": 100,\n",
    "\t\"sourceType\": \"Best Guess national product x partner\"\n",
    "})\n",
    "\n",
    "len(result)"
   ]
  },
  {
   "cell_type": "code",
   "execution_count": 12,
   "metadata": {},
   "outputs": [
    {
     "name": "stdout",
     "output_type": "stream",
     "text": [
      "35812\n"
     ]
    }
   ],
   "source": [
    "def filter_to_larochelle (f):\n",
    "        print(f)\n",
    "        if ('direction' in f and f['direction'] == 'La Rochelle'):\n",
    "            return True\n",
    "        else:\n",
    "            return False\n",
    "        \n",
    "\n",
    "result = client.portic.get_flows({\n",
    "    'source_subset' : 'Poitou_1789',\n",
    "     'params': [ 'travel_rank', 'ship_id', 'departure', 'destination', 'travel_uncertainty', 'distance_dep_dest']\n",
    "})\n",
    "\n",
    "print (len(result))"
   ]
  },
  {
   "cell_type": "code",
   "execution_count": 14,
   "metadata": {},
   "outputs": [
    {
     "data": {
      "application/javascript": [
       "const spec = {\"mark\": \"point\", \"encoding\": {\"x\": {\"type\": \"quantitative\", \"field\": \"age\"}, \"y\": {\"type\": \"quantitative\", \"field\": \"lieu\"}}, \"data\": {\"values\": [{\"age\": 1, \"lieu\": 5}, {\"age\": 2, \"lieu\": 3}, {\"age\": 5, \"lieu\": 5}, {\"age\": 1, \"lieu\": 1}, {\"age\": 5, \"lieu\": 2}]}};\n",
       "const opt = {};\n",
       "const type = \"vega-lite\";\n",
       "const id = \"4ad467f2-149b-4864-b6c8-1ee1b1cdebf1\";\n",
       "\n",
       "const output_area = this;\n",
       "\n",
       "require([\"nbextensions/jupyter-vega/index\"], function(vega) {\n",
       "  const target = document.createElement(\"div\");\n",
       "  target.id = id;\n",
       "  target.className = \"vega-embed\";\n",
       "\n",
       "  const style = document.createElement(\"style\");\n",
       "  style.textContent = [\n",
       "    \".vega-embed .error p {\",\n",
       "    \"  color: firebrick;\",\n",
       "    \"  font-size: 14px;\",\n",
       "    \"}\",\n",
       "  ].join(\"\\\\n\");\n",
       "\n",
       "  // element is a jQuery wrapped DOM element inside the output area\n",
       "  // see http://ipython.readthedocs.io/en/stable/api/generated/\\\n",
       "  // IPython.display.html#IPython.display.Javascript.__init__\n",
       "  element[0].appendChild(target);\n",
       "  element[0].appendChild(style);\n",
       "\n",
       "  vega.render(\"#\" + id, spec, type, opt, output_area);\n",
       "}, function (err) {\n",
       "  if (err.requireType !== \"scripterror\") {\n",
       "    throw(err);\n",
       "  }\n",
       "});\n"
      ],
      "text/plain": [
       "<vega.vegalite.VegaLite at 0x7fdbbffeba00>"
      ]
     },
     "execution_count": 14,
     "metadata": {
      "jupyter-vega": "#4ad467f2-149b-4864-b6c8-1ee1b1cdebf1"
     },
     "output_type": "execute_result"
    },
    {
     "data": {
      "image/png": "[encoded data removed]"
     },
     "metadata": {
      "jupyter-vega": "#4ad467f2-149b-4864-b6c8-1ee1b1cdebf1"
     },
     "output_type": "display_data"
    }
   ],
   "source": [
    "test = [\n",
    "    {\n",
    "        \"age\": 1,\n",
    "        \"lieu\": 5\n",
    "    },\n",
    "    {\n",
    "        \"age\": 2,\n",
    "        \"lieu\": 3\n",
    "    },\n",
    "    {\n",
    "        \"age\": 5,\n",
    "        \"lieu\": 5\n",
    "    },\n",
    "    {\n",
    "        \"age\": 1,\n",
    "        \"lieu\": 1\n",
    "    },\n",
    "    {\n",
    "        \"age\": 5,\n",
    "        \"lieu\": 2\n",
    "    }\n",
    "]\n",
    "VegaLite({\n",
    "    \"mark\": \"point\",\n",
    "    \"encoding\": {\n",
    "        \"x\": {\n",
    "            \"type\": \"quantitative\",\n",
    "            \"field\": \"age\"\n",
    "        },\n",
    "        \"y\": {\n",
    "            \"type\": \"quantitative\",\n",
    "            \"field\": \"lieu\"\n",
    "        }\n",
    "    }\n",
    "}, pd.DataFrame(test))"
   ]
  },
  {
   "cell_type": "code",
   "execution_count": 1,
   "metadata": {},
   "outputs": [
    {
     "ename": "NameError",
     "evalue": "name 'nx' is not defined",
     "output_type": "error",
     "traceback": [
      "\u001b[0;31m---------------------------------------------------------------------------\u001b[0m",
      "\u001b[0;31mNameError\u001b[0m                                 Traceback (most recent call last)",
      "\u001b[0;32m<ipython-input-1-1c9cecd48b95>\u001b[0m in \u001b[0;36m<module>\u001b[0;34m\u001b[0m\n\u001b[0;32m----> 1\u001b[0;31m \u001b[0mg\u001b[0m \u001b[0;34m=\u001b[0m \u001b[0mnx\u001b[0m\u001b[0;34m.\u001b[0m\u001b[0mread_gexf\u001b[0m\u001b[0;34m(\u001b[0m\u001b[0;34m'arctic.gexf'\u001b[0m\u001b[0;34m)\u001b[0m\u001b[0;34m\u001b[0m\u001b[0;34m\u001b[0m\u001b[0m\n\u001b[0m\u001b[1;32m      2\u001b[0m \u001b[0mSigma\u001b[0m\u001b[0;34m(\u001b[0m\u001b[0mg\u001b[0m\u001b[0;34m)\u001b[0m\u001b[0;34m\u001b[0m\u001b[0;34m\u001b[0m\u001b[0m\n",
      "\u001b[0;31mNameError\u001b[0m: name 'nx' is not defined"
     ]
    }
   ],
   "source": [
    "g = nx.read_gexf('arctic.gexf')\n",
    "Sigma(g)"
   ]
  },
  {
   "cell_type": "code",
   "execution_count": 22,
   "metadata": {},
   "outputs": [],
   "source": [
    "data = {\n",
    "  'nodes': [\n",
    "    {\n",
    "      \"id\": \"n0\",\n",
    "      \"label\": \"A node\",\n",
    "      \"x\": 0,\n",
    "      \"y\": 0,\n",
    "      \"size\": 3\n",
    "    },\n",
    "    {\n",
    "      \"id\": \"n1\",\n",
    "      \"label\": \"Another node\",\n",
    "      \"x\": 3,\n",
    "      \"y\": 1,\n",
    "      \"size\": 2\n",
    "    },\n",
    "    {\n",
    "      \"id\": \"n2\",\n",
    "      \"label\": \"And a last one\",\n",
    "      \"x\": 1,\n",
    "      \"y\": 3,\n",
    "      \"size\": 1\n",
    "    }\n",
    "  ],\n",
    "  'edges': [\n",
    "    {\n",
    "      \"id\": \"e0\",\n",
    "      \"source\": \"n0\",\n",
    "      \"target\": \"n1\"\n",
    "    },\n",
    "    {\n",
    "      \"id\": \"e1\",\n",
    "      \"source\": \"n1\",\n",
    "      \"target\": \"n2\"\n",
    "    },\n",
    "    {\n",
    "      \"id\": \"e2\",\n",
    "      \"source\": \"n2\",\n",
    "      \"target\": \"n0\"\n",
    "    }\n",
    "  ]\n",
    "}"
   ]
  },
  {
   "cell_type": "code",
   "execution_count": 23,
   "metadata": {},
   "outputs": [
    {
     "ename": "AttributeError",
     "evalue": "'dict' object has no attribute 'nodes'",
     "output_type": "error",
     "traceback": [
      "\u001b[0;31m---------------------------------------------------------------------------\u001b[0m",
      "\u001b[0;31mAttributeError\u001b[0m                            Traceback (most recent call last)",
      "\u001b[0;32m<ipython-input-23-9539c2c25d05>\u001b[0m in \u001b[0;36m<module>\u001b[0;34m\u001b[0m\n\u001b[0;32m----> 1\u001b[0;31m \u001b[0mSigma\u001b[0m\u001b[0;34m(\u001b[0m\u001b[0mdata\u001b[0m\u001b[0;34m)\u001b[0m\u001b[0;34m\u001b[0m\u001b[0;34m\u001b[0m\u001b[0m\n\u001b[0m",
      "\u001b[0;32m~/opt/anaconda3/lib/python3.8/site-packages/ipysigma/sigma.py\u001b[0m in \u001b[0;36m__init__\u001b[0;34m(self, graph, height, start_layout, **kwargs)\u001b[0m\n\u001b[1;32m     23\u001b[0m         \u001b[0msuper\u001b[0m\u001b[0;34m(\u001b[0m\u001b[0mSigma\u001b[0m\u001b[0;34m,\u001b[0m \u001b[0mself\u001b[0m\u001b[0;34m)\u001b[0m\u001b[0;34m.\u001b[0m\u001b[0m__init__\u001b[0m\u001b[0;34m(\u001b[0m\u001b[0;34m**\u001b[0m\u001b[0mkwargs\u001b[0m\u001b[0;34m)\u001b[0m\u001b[0;34m\u001b[0m\u001b[0;34m\u001b[0m\u001b[0m\n\u001b[1;32m     24\u001b[0m \u001b[0;34m\u001b[0m\u001b[0m\n\u001b[0;32m---> 25\u001b[0;31m         \u001b[0mnodes\u001b[0m \u001b[0;34m=\u001b[0m \u001b[0mlist\u001b[0m\u001b[0;34m(\u001b[0m\u001b[0mgraph\u001b[0m\u001b[0;34m.\u001b[0m\u001b[0mnodes\u001b[0m\u001b[0;34m(\u001b[0m\u001b[0mdata\u001b[0m\u001b[0;34m=\u001b[0m\u001b[0;32mTrue\u001b[0m\u001b[0;34m)\u001b[0m\u001b[0;34m)\u001b[0m\u001b[0;34m\u001b[0m\u001b[0;34m\u001b[0m\u001b[0m\n\u001b[0m\u001b[1;32m     26\u001b[0m         \u001b[0medges\u001b[0m \u001b[0;34m=\u001b[0m \u001b[0mlist\u001b[0m\u001b[0;34m(\u001b[0m\u001b[0mgraph\u001b[0m\u001b[0;34m.\u001b[0m\u001b[0medges\u001b[0m\u001b[0;34m(\u001b[0m\u001b[0mdata\u001b[0m\u001b[0;34m=\u001b[0m\u001b[0;32mTrue\u001b[0m\u001b[0;34m)\u001b[0m\u001b[0;34m)\u001b[0m\u001b[0;34m\u001b[0m\u001b[0;34m\u001b[0m\u001b[0m\n\u001b[1;32m     27\u001b[0m \u001b[0;34m\u001b[0m\u001b[0m\n",
      "\u001b[0;31mAttributeError\u001b[0m: 'dict' object has no attribute 'nodes'"
     ]
    }
   ],
   "source": [
    "Sigma(data)"
   ]
  },
  {
   "cell_type": "markdown",
   "metadata": {},
   "source": [
    "# Tentative Vega : histogramme destinations navigo La Rochelle 1789"
   ]
  },
  {
   "cell_type": "code",
   "execution_count": 7,
   "metadata": {},
   "outputs": [
    {
     "name": "stdout",
     "output_type": "stream",
     "text": [
      "[{'destination': 'Alicant'}, {'destination': 'Aligre de Marans'}, {'destination': 'Amsterdam'}, {'destination': 'Angleterre'}, {'destination': 'Ars en Ré'}, {'destination': 'Arzon'}, {'destination': 'Baltique'}, {'destination': 'Bayonne'}, {'destination': 'Beauvoir-sur-Mer'}, {'destination': 'Bordeaux'}, {'destination': 'Boston'}, {'destination': 'Boulogne sur Mer'}, {'destination': 'Bourcefranc'}, {'destination': 'Bourgneuf'}, {'destination': 'Bremen'}, {'destination': 'Brest'}, {'destination': 'Brusq'}, {'destination': 'Caen'}, {'destination': 'Calais'}, {'destination': 'Chalon'}]\n"
     ]
    }
   ],
   "source": [
    "result = client.portic.get_flows({ \n",
    "    'date':'1789',\n",
    "    'params': ['destination'],\n",
    "    # 'departure_ferme_direction': 'La Rochelle'\n",
    "    })\n",
    "\n",
    "result_filtered = []\n",
    "for item in result:\n",
    "    if 'departure_ferme_direction' in item and item['departure_ferme_direction']=='La Rochelle':\n",
    "        result_filtered.append(item)\n",
    "\n",
    "print(result[0:20])"
   ]
  },
  {
   "cell_type": "code",
   "execution_count": 14,
   "metadata": {},
   "outputs": [
    {
     "ename": "NameError",
     "evalue": "name 'data' is not defined",
     "output_type": "error",
     "traceback": [
      "\u001b[0;31m---------------------------------------------------------------------------\u001b[0m",
      "\u001b[0;31mNameError\u001b[0m                                 Traceback (most recent call last)",
      "\u001b[0;32m<ipython-input-14-be8170c98f43>\u001b[0m in \u001b[0;36m<module>\u001b[0;34m\u001b[0m\n\u001b[1;32m      1\u001b[0m VegaLite({\n\u001b[1;32m      2\u001b[0m     \u001b[0;34m\"$schema\"\u001b[0m\u001b[0;34m:\u001b[0m \u001b[0;34m\"https://vega.github.io/schema/vega-lite/v5.json\"\u001b[0m\u001b[0;34m,\u001b[0m\u001b[0;34m\u001b[0m\u001b[0;34m\u001b[0m\u001b[0m\n\u001b[0;32m----> 3\u001b[0;31m         data: {\n\u001b[0m\u001b[1;32m      4\u001b[0m           values: [\n\u001b[1;32m      5\u001b[0m             \u001b[0;34m{\u001b[0m\u001b[0;34m'destination'\u001b[0m\u001b[0;34m:\u001b[0m \u001b[0;34m'Alicant'\u001b[0m\u001b[0;34m,\u001b[0m \u001b[0;34m'b'\u001b[0m\u001b[0;34m:\u001b[0m\u001b[0;36m1\u001b[0m\u001b[0;34m}\u001b[0m\u001b[0;34m,\u001b[0m\u001b[0;34m\u001b[0m\u001b[0;34m\u001b[0m\u001b[0m\n",
      "\u001b[0;31mNameError\u001b[0m: name 'data' is not defined"
     ]
    }
   ],
   "source": [
    "VegaLite({\n",
    "    \"$schema\": \"https://vega.github.io/schema/vega-lite/v5.json\",\n",
    "        data: {\n",
    "          values: [\n",
    "            {'destination': 'Alicant', 'b':1}, \n",
    "            {'destination': 'Aligre de Marans', 'b':1}, \n",
    "            {'destination': 'Amsterdam', 'b':1}, \n",
    "            {'destination': 'Angleterre', 'b':1}, \n",
    "            {'destination': 'Ars en Ré', 'b':1}, \n",
    "            {'destination': 'Arzon', 'b':1}, \n",
    "            {'destination': 'Baltique', 'b':1}, \n",
    "            {'destination': 'Bayonne', 'b':1}, \n",
    "            {'destination': 'Beauvoir-sur-Mer', 'b':1},\n",
    "            {'destination': 'Bordeaux', 'b':1}, \n",
    "            {'destination': 'Boston', 'b':1}, \n",
    "            {'destination': 'Boulogne sur Mer', 'b':1}, \n",
    "            {'destination': 'Bourcefranc', 'b':1},\n",
    "            {'destination': 'Bourgneuf', 'b':1}, \n",
    "            {'destination': 'Bremen', 'b':1}, \n",
    "            {'destination': 'Brest', 'b':1}, \n",
    "            {'destination': 'Brusq', 'b':1}, \n",
    "            {'destination': 'Caen', 'b':1}, \n",
    "            {'destination': 'Calais', 'b':1}, \n",
    "            {'destination': 'Chalon', 'b':1}\n",
    "          ]\n",
    "        },\n",
    "    \n",
    "    \"title\": \"Répartition des destinations chez Navigo, pour les flux du sprint\",\n",
    "    \"width\": 800,\n",
    "    \"mark\": \"bar\",\n",
    "    \n",
    "    encoding: {\n",
    "          y: {field: 'destination', type: 'nominal'},\n",
    "          x: {\n",
    "            aggregate: 'average',\n",
    "            field: 'b',\n",
    "            type: 'quantitative',\n",
    "            axis: {\n",
    "              title: 'number of flows'\n",
    "            }\n",
    "          }\n",
    "    }\n",
    "}, pd.DataFrame(result_filtered))"
   ]
  },
  {
   "cell_type": "code",
   "execution_count": null,
   "metadata": {},
   "outputs": [],
   "source": []
  }
 ],
 "metadata": {
  "kernelspec": {
   "display_name": "Python 3",
   "language": "python",
   "name": "python3"
  },
  "language_info": {
   "codemirror_mode": {
    "name": "ipython",
    "version": 3
   },
   "file_extension": ".py",
   "mimetype": "text/x-python",
   "name": "python",
   "nbconvert_exporter": "python",
   "pygments_lexer": "ipython3",
   "version": "3.8.5"
  }
 },
 "nbformat": 4,
 "nbformat_minor": 4
}
