{
 "cells": [
  {
   "cell_type": "markdown",
   "metadata": {},
   "source": [
    "# Découverte des croisements PORTIC en préparation de la réunion des 8 et 9 Octobre 2020\n",
    "\n",
    "## Objectifs\n",
    "\n",
    "- [ ] se documenter sur l'API Portic\n",
    "- [ ] se documenter sur l'API Toflit18\n",
    "- [ ] construire un schéma simplifié des relations entre PORTIC et TOFLIT18\n",
    "- [ ] construire un client permettant de travailler facilement avec les deux bases\n",
    "- [ ] explorer les données de Portic et Toflit18 relative aux ports de la région du Poitou\n",
    "- [ ] envisager des exemples de questions de recherche et faire des hypothèses sur ce que l'on pourrait explorer"
   ]
  },
  {
   "cell_type": "code",
   "execution_count": null,
   "metadata": {},
   "outputs": [],
   "source": [
    "# bootstrapping du client\n",
    "from lib.client import Api\n",
    "import json\n",
    "\n",
    "client = Api()"
   ]
  },
  {
   "cell_type": "markdown",
   "metadata": {},
   "source": [
    "# Documentation de l'API de PORTIC et implémentation dans le client\n",
    "\n",
    "Voir https://gitlab.huma-num.fr/portic/porticapi/-/tree/master/porticapi\n",
    "\n",
    "Aide de l'API du client à la cellule ci-après.\n",
    "\n",
    "Noter que chaque méthode dispose de sa propre aide. Essayer par exemple : `help(client.portic.get_fieldnames)`."
   ]
  },
  {
   "cell_type": "code",
   "execution_count": null,
   "metadata": {},
   "outputs": [],
   "source": [
    "print(help(client.portic))"
   ]
  },
  {
   "cell_type": "code",
   "execution_count": null,
   "metadata": {},
   "outputs": [],
   "source": [
    "# Exemple de requête : tous les bateaux passant par Bordeaux (A0180923) et Boulogne sur Mer (A0152606)\n",
    "\n",
    "resp = client.portic.get_flows({\n",
    " 'ports': ['A0180923', 'A0152606'],\n",
    " 'params': [ 'travel_rank', 'ship_id', 'departure', 'destination', 'travel_uncertainty', 'distance_dep_dest']\n",
    "})\n",
    "print(json.dumps(resp[0:2], indent=2))"
   ]
  }
 ],
 "metadata": {
  "kernelspec": {
   "display_name": "Python 3",
   "language": "python",
   "name": "python3"
  },
  "language_info": {
   "codemirror_mode": {
    "name": "ipython",
    "version": 3
   },
   "file_extension": ".py",
   "mimetype": "text/x-python",
   "name": "python",
   "nbconvert_exporter": "python",
   "pygments_lexer": "ipython3",
   "version": "3.8.5"
  }
 },
 "nbformat": 4,
 "nbformat_minor": 4
}
